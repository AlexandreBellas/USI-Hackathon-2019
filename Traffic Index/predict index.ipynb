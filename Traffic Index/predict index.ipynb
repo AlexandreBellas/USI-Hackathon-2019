{
 "cells": [
  {
   "cell_type": "code",
   "execution_count": 1,
   "metadata": {},
   "outputs": [],
   "source": [
    "# imports\n",
    "import numpy as np\n",
    "import matplotlib.pyplot as plt\n",
    "import pandas as pd\n",
    "from sklearn.model_selection import train_test_split\n",
    "from sklearn.ensemble import RandomForestRegressor"
   ]
  },
  {
   "cell_type": "code",
   "execution_count": 2,
   "metadata": {},
   "outputs": [],
   "source": [
    "df2 = pd.read_csv('Traffic_Index.csv')"
   ]
  },
  {
   "cell_type": "code",
   "execution_count": 3,
   "metadata": {},
   "outputs": [],
   "source": [
    "df = df2"
   ]
  },
  {
   "cell_type": "code",
   "execution_count": 5,
   "metadata": {},
   "outputs": [
    {
     "data": {
      "text/html": [
       "<div>\n",
       "<style scoped>\n",
       "    .dataframe tbody tr th:only-of-type {\n",
       "        vertical-align: middle;\n",
       "    }\n",
       "\n",
       "    .dataframe tbody tr th {\n",
       "        vertical-align: top;\n",
       "    }\n",
       "\n",
       "    .dataframe thead th {\n",
       "        text-align: right;\n",
       "    }\n",
       "</style>\n",
       "<table border=\"1\" class=\"dataframe\">\n",
       "  <thead>\n",
       "    <tr style=\"text-align: right;\">\n",
       "      <th></th>\n",
       "      <th>weekend</th>\n",
       "      <th>hour</th>\n",
       "      <th>traffic</th>\n",
       "      <th>sensi</th>\n",
       "      <th>Italy</th>\n",
       "      <th>Switzerland</th>\n",
       "      <th>prec</th>\n",
       "      <th>temp</th>\n",
       "      <th>hotel_guests</th>\n",
       "      <th>parkings</th>\n",
       "      <th>Total</th>\n",
       "      <th>Train</th>\n",
       "      <th>Road</th>\n",
       "      <th>Highway</th>\n",
       "    </tr>\n",
       "  </thead>\n",
       "  <tbody>\n",
       "    <tr>\n",
       "      <th>0</th>\n",
       "      <td>0</td>\n",
       "      <td>6</td>\n",
       "      <td>0.000000</td>\n",
       "      <td>1.525777</td>\n",
       "      <td>NaN</td>\n",
       "      <td>NaN</td>\n",
       "      <td>0.933333</td>\n",
       "      <td>8.033333</td>\n",
       "      <td>NaN</td>\n",
       "      <td>NaN</td>\n",
       "      <td>NaN</td>\n",
       "      <td>NaN</td>\n",
       "      <td>NaN</td>\n",
       "      <td>NaN</td>\n",
       "    </tr>\n",
       "    <tr>\n",
       "      <th>1</th>\n",
       "      <td>0</td>\n",
       "      <td>7</td>\n",
       "      <td>0.327891</td>\n",
       "      <td>1.525777</td>\n",
       "      <td>NaN</td>\n",
       "      <td>NaN</td>\n",
       "      <td>0.850000</td>\n",
       "      <td>8.016667</td>\n",
       "      <td>NaN</td>\n",
       "      <td>NaN</td>\n",
       "      <td>NaN</td>\n",
       "      <td>NaN</td>\n",
       "      <td>NaN</td>\n",
       "      <td>NaN</td>\n",
       "    </tr>\n",
       "    <tr>\n",
       "      <th>2</th>\n",
       "      <td>0</td>\n",
       "      <td>8</td>\n",
       "      <td>0.093878</td>\n",
       "      <td>1.525777</td>\n",
       "      <td>NaN</td>\n",
       "      <td>NaN</td>\n",
       "      <td>0.383333</td>\n",
       "      <td>7.666667</td>\n",
       "      <td>NaN</td>\n",
       "      <td>NaN</td>\n",
       "      <td>NaN</td>\n",
       "      <td>NaN</td>\n",
       "      <td>NaN</td>\n",
       "      <td>NaN</td>\n",
       "    </tr>\n",
       "    <tr>\n",
       "      <th>3</th>\n",
       "      <td>0</td>\n",
       "      <td>9</td>\n",
       "      <td>0.322449</td>\n",
       "      <td>1.525777</td>\n",
       "      <td>NaN</td>\n",
       "      <td>NaN</td>\n",
       "      <td>0.116667</td>\n",
       "      <td>7.816667</td>\n",
       "      <td>NaN</td>\n",
       "      <td>NaN</td>\n",
       "      <td>NaN</td>\n",
       "      <td>NaN</td>\n",
       "      <td>NaN</td>\n",
       "      <td>NaN</td>\n",
       "    </tr>\n",
       "    <tr>\n",
       "      <th>4</th>\n",
       "      <td>0</td>\n",
       "      <td>10</td>\n",
       "      <td>0.246259</td>\n",
       "      <td>1.525777</td>\n",
       "      <td>NaN</td>\n",
       "      <td>NaN</td>\n",
       "      <td>0.033333</td>\n",
       "      <td>8.366667</td>\n",
       "      <td>NaN</td>\n",
       "      <td>NaN</td>\n",
       "      <td>NaN</td>\n",
       "      <td>NaN</td>\n",
       "      <td>NaN</td>\n",
       "      <td>NaN</td>\n",
       "    </tr>\n",
       "  </tbody>\n",
       "</table>\n",
       "</div>"
      ],
      "text/plain": [
       "   weekend  hour   traffic     sensi  Italy  Switzerland      prec      temp  \\\n",
       "0        0     6  0.000000  1.525777    NaN          NaN  0.933333  8.033333   \n",
       "1        0     7  0.327891  1.525777    NaN          NaN  0.850000  8.016667   \n",
       "2        0     8  0.093878  1.525777    NaN          NaN  0.383333  7.666667   \n",
       "3        0     9  0.322449  1.525777    NaN          NaN  0.116667  7.816667   \n",
       "4        0    10  0.246259  1.525777    NaN          NaN  0.033333  8.366667   \n",
       "\n",
       "   hotel_guests  parkings  Total  Train  Road  Highway  \n",
       "0           NaN       NaN    NaN    NaN   NaN      NaN  \n",
       "1           NaN       NaN    NaN    NaN   NaN      NaN  \n",
       "2           NaN       NaN    NaN    NaN   NaN      NaN  \n",
       "3           NaN       NaN    NaN    NaN   NaN      NaN  \n",
       "4           NaN       NaN    NaN    NaN   NaN      NaN  "
      ]
     },
     "execution_count": 5,
     "metadata": {},
     "output_type": "execute_result"
    }
   ],
   "source": [
    "# Drop unuseful columns\n",
    "df = df.drop(['Date','date','fermata','dur','dur_p','benchmark','benchmark_p','traffic_p','Commute','high','Germany','Netherlands','Non-commute','NOx','NO','NO2','O3','PM10'],axis=1)\n",
    "df.head()"
   ]
  },
  {
   "cell_type": "code",
   "execution_count": 6,
   "metadata": {},
   "outputs": [
    {
     "name": "stdout",
     "output_type": "stream",
     "text": [
      "Training Features Shape: (70369, 13)\n",
      "Training Labels Shape: (70369,)\n",
      "Testing Features Shape: (23457, 13)\n",
      "Testing Labels Shape: (23457,)\n"
     ]
    }
   ],
   "source": [
    "# drop NaN values\n",
    "df = df.dropna()\n",
    "\n",
    "\"\"\"\n",
    "I change the values to numpy before putting them into the classifier\n",
    "\"\"\"\n",
    "\n",
    "# labels from data\n",
    "labels = np.array(df['traffic'])\n",
    "# drop label columns\n",
    "df = df.drop('traffic',axis=1)\n",
    "# Saving feature names for later use\n",
    "feature_list = list(df.columns)\n",
    "\n",
    "features = np.array(df)\n",
    "\n",
    "# Split the data into training and testing sets\n",
    "train_features, test_features, train_labels, test_labels = train_test_split(features, labels, test_size = 0.25, random_state = 42)\n",
    "\n",
    "print('Training Features Shape:', train_features.shape)\n",
    "print('Training Labels Shape:', train_labels.shape)\n",
    "print('Testing Features Shape:', test_features.shape)\n",
    "print('Testing Labels Shape:', test_labels.shape)"
   ]
  },
  {
   "cell_type": "code",
   "execution_count": 7,
   "metadata": {},
   "outputs": [],
   "source": [
    "# Instantiate model with 100 decision trees\n",
    "rf = RandomForestRegressor(n_estimators = 100, random_state = 42)\n",
    "# Train the model on training data\n",
    "rf.fit(train_features, train_labels);"
   ]
  },
  {
   "cell_type": "code",
   "execution_count": 8,
   "metadata": {},
   "outputs": [
    {
     "name": "stdout",
     "output_type": "stream",
     "text": [
      "Mean Absolute Error: 0.29 degrees.\n"
     ]
    }
   ],
   "source": [
    "# Use the forest's predict method on the test data\n",
    "predictions = rf.predict(test_features)\n",
    "# Calculate the absolute errors\n",
    "errors = abs(predictions - test_labels)\n",
    "# Print out the mean absolute error (mae)\n",
    "print('Mean Absolute Error:', round(np.mean(errors), 2), 'degrees.')"
   ]
  },
  {
   "cell_type": "code",
   "execution_count": 10,
   "metadata": {},
   "outputs": [
    {
     "name": "stdout",
     "output_type": "stream",
     "text": [
      "Variable: sensi      Importance: 0.51\n",
      "Variable: temp       Importance: 0.06\n",
      "Variable: parkings   Importance: 0.06\n",
      "Variable: Total      Importance: 0.06\n",
      "Variable: Road       Importance: 0.06\n",
      "Variable: hour       Importance: 0.05\n",
      "Variable: Train      Importance: 0.05\n",
      "Variable: Highway    Importance: 0.05\n",
      "Variable: Italy      Importance: 0.03\n",
      "Variable: hotel_guests Importance: 0.03\n",
      "Variable: Switzerland Importance: 0.02\n",
      "Variable: prec       Importance: 0.01\n",
      "Variable: weekend    Importance: 0.0\n"
     ]
    }
   ],
   "source": [
    "# Get numerical feature importances\n",
    "importances = list(rf.feature_importances_)\n",
    "# List of tuples with variable and importance\n",
    "feature_importances = [(feature, round(importance, 2)) for feature, importance in zip(feature_list, importances)]\n",
    "# Sort the feature importances by most important first\n",
    "feature_importances = sorted(feature_importances, key = lambda x: x[1], reverse = True)\n",
    "# Print out the feature and importances \n",
    "[print('Variable: {:10} Importance: {}'.format(*pair)) for pair in feature_importances];"
   ]
  },
  {
   "cell_type": "code",
   "execution_count": null,
   "metadata": {},
   "outputs": [],
   "source": []
  }
 ],
 "metadata": {
  "kernelspec": {
   "display_name": "Python 3",
   "language": "python",
   "name": "python3"
  },
  "language_info": {
   "codemirror_mode": {
    "name": "ipython",
    "version": 3
   },
   "file_extension": ".py",
   "mimetype": "text/x-python",
   "name": "python",
   "nbconvert_exporter": "python",
   "pygments_lexer": "ipython3",
   "version": "3.5.6"
  }
 },
 "nbformat": 4,
 "nbformat_minor": 2
}
