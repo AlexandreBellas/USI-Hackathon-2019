{
 "cells": [
  {
   "cell_type": "code",
   "execution_count": 1,
   "metadata": {
    "ExecuteTime": {
     "end_time": "2019-11-16T16:49:42.855420Z",
     "start_time": "2019-11-16T16:49:41.930803Z"
    }
   },
   "outputs": [
    {
     "name": "stdout",
     "output_type": "stream",
     "text": [
      "Populating the interactive namespace from numpy and matplotlib\n"
     ]
    }
   ],
   "source": [
    "import os; import pandas as pd; import numpy  as np\n",
    "from pandas.tseries.offsets import *\n",
    "import statsmodels.formula.api as smf\n",
    "\n",
    "%pylab inline\n",
    "%config InlineBackend.figure_format = 'retina'"
   ]
  },
  {
   "cell_type": "code",
   "execution_count": 2,
   "metadata": {
    "ExecuteTime": {
     "end_time": "2019-11-16T16:56:33.636057Z",
     "start_time": "2019-11-16T16:56:33.631030Z"
    }
   },
   "outputs": [],
   "source": [
    "path = \"../data/tpl/lines_events/\"\n",
    "os.chdir(path)\n",
    "from glob import glob"
   ]
  },
  {
   "cell_type": "code",
   "execution_count": 15,
   "metadata": {
    "ExecuteTime": {
     "end_time": "2019-11-16T17:01:52.819148Z",
     "start_time": "2019-11-16T17:01:52.813148Z"
    }
   },
   "outputs": [],
   "source": [
    "from tqdm import tqdm_notebook"
   ]
  },
  {
   "cell_type": "code",
   "execution_count": 16,
   "metadata": {
    "ExecuteTime": {
     "end_time": "2019-11-16T17:02:17.760460Z",
     "start_time": "2019-11-16T17:01:53.394158Z"
    }
   },
   "outputs": [
    {
     "data": {
      "application/vnd.jupyter.widget-view+json": {
       "model_id": "98b519e3bb0b4c5980f064c737e32c6b",
       "version_major": 2,
       "version_minor": 0
      },
      "text/plain": [
       "HBox(children=(IntProgress(value=0, max=168), HTML(value='')))"
      ]
     },
     "metadata": {},
     "output_type": "display_data"
    },
    {
     "name": "stdout",
     "output_type": "stream",
     "text": [
      "\n"
     ]
    }
   ],
   "source": [
    "dfs = []\n",
    "files = glob(\"*.csv\")\n",
    "for file_name in tqdm_notebook(files):\n",
    "    df = pd.read_csv(file_name, low_memory=False)\n",
    "    dfs.append(df)\n",
    "df = pd.concat(dfs)"
   ]
  },
  {
   "cell_type": "code",
   "execution_count": 20,
   "metadata": {
    "ExecuteTime": {
     "end_time": "2019-11-16T17:05:08.853061Z",
     "start_time": "2019-11-16T17:05:07.840775Z"
    }
   },
   "outputs": [],
   "source": [
    "dff = df.copy()"
   ]
  },
  {
   "cell_type": "code",
   "execution_count": 199,
   "metadata": {
    "ExecuteTime": {
     "end_time": "2019-11-16T20:43:56.676352Z",
     "start_time": "2019-11-16T20:43:55.323174Z"
    },
    "scrolled": false
   },
   "outputs": [],
   "source": [
    "df.rename({\n",
    "    \"TRANS.REALE\":\"time\",\n",
    "    \"TRANS.PROGRAMMATO\":\"time_p\",\n",
    "    \"DATA\":\"date\",\n",
    "    'SCOST.':'delay',\n",
    "    'INDIRIZZO':'fermata'\n",
    "},axis=1, inplace=True)\n",
    "df.columns = [x.lower() for x in df.columns]"
   ]
  },
  {
   "cell_type": "code",
   "execution_count": 200,
   "metadata": {
    "ExecuteTime": {
     "end_time": "2019-11-16T20:44:06.069903Z",
     "start_time": "2019-11-16T20:44:02.153687Z"
    },
    "scrolled": false
   },
   "outputs": [],
   "source": [
    "df['hour' ] = df['time'].str[:2]\n",
    "df['linea'] = df['linea'].astype(str)"
   ]
  },
  {
   "cell_type": "code",
   "execution_count": 202,
   "metadata": {
    "ExecuteTime": {
     "end_time": "2019-11-16T20:44:48.556186Z",
     "start_time": "2019-11-16T20:44:36.629994Z"
    }
   },
   "outputs": [],
   "source": [
    "cols = ['corsa', 'date', 'fermata', 'km', 'linea', 'posizione', 'delay', 'time_p', 'time', 'turno', 'hour']\n",
    "\n",
    "df[cols].to_parquet(\"bus_lugano.parquet\")"
   ]
  },
  {
   "cell_type": "code",
   "execution_count": 210,
   "metadata": {
    "ExecuteTime": {
     "end_time": "2019-11-17T00:26:46.978195Z",
     "start_time": "2019-11-17T00:26:46.822442Z"
    }
   },
   "outputs": [
    {
     "data": {
      "text/plain": [
       "'/Users/abramo/Repos/USI-Hackathon-2019/data/data/tpl/lines_events'"
      ]
     },
     "execution_count": 210,
     "metadata": {},
     "output_type": "execute_result"
    }
   ],
   "source": [
    "pwd"
   ]
  },
  {
   "cell_type": "code",
   "execution_count": 205,
   "metadata": {
    "ExecuteTime": {
     "end_time": "2019-11-16T20:58:30.837661Z",
     "start_time": "2019-11-16T20:58:30.381677Z"
    },
    "collapsed": true
   },
   "outputs": [
    {
     "data": {
      "text/plain": [
       "array([\"TPL Rimessa Rugi' E\", 'Lugano- Pista Ghiaccio- Mast 2',\n",
       "       'Lugano- Resega- Mast 2', 'Lugano- Gerra- Mast 2',\n",
       "       'Lugano- Cimitero- Mast 2', 'Lugano- Via Ginevra- Mast 2',\n",
       "       'Lugano- Centro- Mast 2', 'Lugano- Autosilo- Mast 2',\n",
       "       'Lugano- Cimitero- Mast 1', 'Lugano- Gerra- Mast 1',\n",
       "       'Lugano- Resega- Mast 1', 'Lugano- Cornaredo- Mast 1',\n",
       "       \"TPL Rimessa Rugi' A\", 'Lugano- Palazzo Studi- Mast 2',\n",
       "       'Cassarate- Lanchetta- Mast 2', \"Cassarate- Monte Bre'- Mast 2\",\n",
       "       'Castagnola- Posta- Mast 2', 'Castagnola  Salita Olivi  Mast 1',\n",
       "       'Castagnola  Tamporiva  Mast 1', 'Castagnola  S. Grato  Mast 1',\n",
       "       'Castagnola  Roncaccio  Mast 1', 'Ruvigliana  Ronchetti  Mast 3',\n",
       "       'Ruvigliana  Fulmignano  Mast 3', 'Ruvigliana- Trona- Mast 1',\n",
       "       'Albonago- Roccolo- Mast 1', 'Aldesago- Pontaccio- Mast 1',\n",
       "       'Aldesago- Narbostra- Mast 1', 'Aldesago- Paese- Mast 1',\n",
       "       'Aldesago- Via Rava- Mast 1', \"Aldesago- Ronche'e- Mast 1\",\n",
       "       'Aldesago- Arcate- Mast 1', \"Bre'- S. Antonio- Mast 1\",\n",
       "       \"Bre'- Paese- Mast 1\", \"Bre'- S. Antonio- Mast 2\",\n",
       "       'Aldesago- Arcate- Mast 2', \"Aldesago- Ronche'e- Mast 2\",\n",
       "       'Aldesago- Via Rava- Mast 2', 'Aldesago- Paese- Mast 2',\n",
       "       'Aldesago- Narbostra- Mast 2', 'Aldesago- Pontaccio- Mast 2',\n",
       "       'Albonago- Roccolo- Mast 2', 'Ruvigliana- Trona- Mast 2',\n",
       "       'Ruvigliana- Paese- Mast 2', 'Ruvigliana- Fulmignano- Mast 2',\n",
       "       'Ruvigliana- Ronchetti- Mast 2', 'Castagnola- Roncaccio- Mast 2',\n",
       "       'Castagnola- S. Grato- Mast 2', 'Castagnola- Tamporiva- Mast 2',\n",
       "       'Castagnola- Salita Olivi- Mast 2', 'Castagnola- Posta- Mast 1',\n",
       "       \"Cassarate- Monte Bre'- Mast 1\", 'Cassarate- Lanchetta- Mast 1',\n",
       "       'Lugano- Palazzo Studi- Mast 5',\n",
       "       'Lugano- Stazione Piazza Besso- Mast 1',\n",
       "       'Ruvigliana- Paese- Mast 1', 'TPL Posteggio Lugano Centro E',\n",
       "       'TPL Posteggio Lugano Centro A', 'Castagnola- Capolinea- Mast 1',\n",
       "       'Pregassona- Piazza di Giro- Mast 1',\n",
       "       'Lugano- Scuole Molino Nuovo- Mast 1',\n",
       "       'Lugano- Sacro Cuore- Mast 1',\n",
       "       'Lugano- Piazza Molino Nuovo- Mast 3', 'Lugano- Vignola- Mast 1',\n",
       "       'Lugano- Stadio- Mast 1', 'Pregassona- Viarnetto- Mast 2',\n",
       "       'Pregassona- Croce Verde- Mast 1', 'Pregassona- Bozzoreda- Mast 1',\n",
       "       'Pregassona- Boschina- Mast 2', 'Pregassona- Boschina- Mast 1',\n",
       "       'Pregassona- Bozzoreda- Mast 2', 'Pregassona- Viarnetto- Mast 1',\n",
       "       'Pregassona- Croce Verde- Mast 2', 'Lugano- Stadio- Mast 2',\n",
       "       'Lugano- Vignola- Mast 2', 'Lugano- Scuole Molino Nuovo 2- Mast 2',\n",
       "       'Lugano- Piazza Molino Nuovo 2- Mast 2',\n",
       "       'Lugano- Via Zurigo- Mast 2', 'Manno  Uovo di Manno  Mast 2',\n",
       "       'Lamone-Cadempino  Posta  Mast 2', 'Viganello- S. Siro- Mast 1',\n",
       "       'Viganello- Villa Costanza- Mast 2',\n",
       "       'Viganello- Centro / Scuole- Mast 2',\n",
       "       'Viganello- la Santa- Mast 2', 'Lugano- Ponte Madonnetta- Mast 2',\n",
       "       \"Lugano- Universita'- Mast 2\", 'Lugano- Corso Elvezia- Mast 2',\n",
       "       'Lugano- Via Balestra- Mast 4',\n",
       "       'Lugano- Palazzo Congressi- Mast 1',\n",
       "       'Lamone-Cadempino- Posta- Mast 1', 'Cadempino- Municipio- Mast 4',\n",
       "       'Cadempino- Ronchetto- Mast 4', 'Vezia- Villa Negroni- Mast 2',\n",
       "       'Vezia- Paese- Mast 2', 'Vezia- Villa Recreatio- Mast 2',\n",
       "       'Lugano- Centro- Mast 4', 'Savosa- Crocifisso- Mast 2',\n",
       "       'Lugano- Via Ginevra- Mast 3', 'Savosa- Valgersa- Mast 2',\n",
       "       'Lugano- Via F. Pelli- Mast 1', 'Lugano- ai Frati- Mast 1',\n",
       "       'Massagno- Cappella Due Mani- Mast 2', 'Lugano- Genzana- Mast 1',\n",
       "       'Massagno- Praccio- Mast 2', 'Massagno- Santa Lucia- Mast 1',\n",
       "       'Massagno- al Sole- Mast 2', 'Massagno- al Sole- Mast 1',\n",
       "       'Massagno- Praccio- Mast 1', 'Massagno- Santa Lucia- Mast 2',\n",
       "       'Lugano- Genzana- Mast 4', 'Massagno- Cappella Due Mani- Mast 1',\n",
       "       'Savosa- Valgersa- Mast 1', 'Savosa- Crocifisso- Mast 1',\n",
       "       'Vezia- Villa Recreatio- Mast 1', 'Lugano- ai Frati- Mast 2',\n",
       "       'Vezia- Paese- Mast 1', 'Vezia- Villa Negroni- Mast 5',\n",
       "       'Lugano- Cappuccine- Mast 2', 'Cadempino- Ronchetto- Mast 3',\n",
       "       'Cadempino- Municipio- Mast 3', 'Lugano- Centro- Mast 1',\n",
       "       \"Lugano- Universita'- Mast 1\", 'Lugano- Ponte Madonnetta- Mast 1',\n",
       "       'Viganello- la Santa- Mast 1',\n",
       "       'Viganello- Centro / Scuole- Mast 1',\n",
       "       'Viganello- Villa Costanza- Mast 1',\n",
       "       'Castagnola- S. Domenico- Mast 1', 'Castagnola- Serenella- Mast 1',\n",
       "       'Castagnola- Villa Favorita- Mast 1', 'Paradiso- Geretta- Mast 2',\n",
       "       'Cassarate- Lido- Mast 3', 'Paradiso- Via S. Salvatore- Mast 1',\n",
       "       'Paradiso- Via Cattori- Mast 2', 'Lugano- Santa Birgitta- Mast 2',\n",
       "       'Lugano- Cassarina- Mast 2', 'Lugano- Loreto- Mast 2',\n",
       "       'Lugano- Tassino- Mast 2', 'Lugano- Bellavista- Mast 2',\n",
       "       'Lugano Stazione 2', 'Lugano- Stazione- Mast 1',\n",
       "       'Lugano- Tassino- Mast 1', 'Lugano- Loreto- Mast 1',\n",
       "       'Lugano- Santa Birgitta- Mast 1',\n",
       "       'Lugano- Palazzo Congressi- Mast 2', 'Cassarate- Lido- Mast 2',\n",
       "       'Castagnola- Villa Favorita- Mast 2',\n",
       "       'Castagnola- Serenella- Mast 2', 'Castagnola- S. Domenico- Mast 2',\n",
       "       'Lugano- Centro- Mast 5', 'Lugano- Piazza Manzoni- Mast 1',\n",
       "       'Lugano- Piazza Luini- Mast 1', 'Paradiso- Debarcadero- Mast 1',\n",
       "       'Pazzallo- P&R Fornaci- Mast 1', 'Paradiso- Debarcadero- Mast 6',\n",
       "       'Lugano- Piazza Luini- Mast 2', 'Lugano- Piazza Manzoni- Mast 2',\n",
       "       'Lugano- Via Brentani- Mast 2', 'Lugano- Via Beltramina- Mast 2',\n",
       "       'Lugano- Casa Serena- Mast 2', 'Lugano- Via Olgiati- Mast 1',\n",
       "       'Lugano- Via Olgiati- Mast 2', 'Lugano- Ponte Madonnetta- Mast 5',\n",
       "       'Lugano- Casa Serena- Mast 1', 'Lugano- Via Beltramina- Mast 1',\n",
       "       'Lugano- Via Brentani- Mast 1', 'Castagnola- S. Michele- Mast 1',\n",
       "       \"Castagnola- Valle'e- Mast 1\", 'Castagnola- S. Giorgio- Mast 1',\n",
       "       'Ruvigliana- Parco S. Michele- Mast 1',\n",
       "       'Suvigliana- Funicolare- Mast 1', 'Albonago- Gradinata- Mast 1',\n",
       "       'Albonago- Via Ruscello- Mast 1',\n",
       "       'Albonago- Via Max Frisch- Mast 2',\n",
       "       'Albonago- Via Max Frisch- Mast 1',\n",
       "       'Albonago- Sentiero Cavan- Mast 1', 'Albonago- ai Ronchi- Mast 1',\n",
       "       'Albonago- al Bosco- Mast 1', 'Albonago  al Bosco  Mast 2',\n",
       "       'Albonago  ai Ronchi  Mast 2', 'Albonago  Sentiero Cavan  Mast 2',\n",
       "       'Albonago  Via Ruscello  Mast 2', 'Albonago  Gradinata  Mast 2',\n",
       "       'Suvigliana  Funicolare  Mast 2',\n",
       "       'Ruvigliana  Parco S. Michele  Mast 2',\n",
       "       'Ruvigliana  ex Clinica  Mast 2', 'Castagnola  S. Giorgio  Mast 2',\n",
       "       \"Castagnola  Valle'e  Mast 2\", 'Castagnola  S. Michele  Mast 2',\n",
       "       'Ruvigliana- ex Clinica- Mast 1',\n",
       "       'Albonago- Sentiero Castagni- Mast 1', 'Albonago- Paese- Mast 1',\n",
       "       'Albonago  Sentiero Castagni  Mast 2',\n",
       "       'Viganello  Scuole Medie  Mast 1', 'Cureggia- Paese- Mast 1',\n",
       "       'Cureggia- Bassa- Mast 2', 'Viganello- S. Siro- Mast 2',\n",
       "       'Cureggia- Bassa- Mast 1', 'Lugano- S. Nicolao- Mast 1',\n",
       "       'Lugano- Conservatorio- Mast 1', 'Sorengo- Moncucchetto- Mast 1',\n",
       "       'Cortivallo- Paese- Mast 1', 'Cortivallo- Casa Anziani- Mast 1',\n",
       "       'Cremignone- Paese- Mast 1', 'Breganzona- Via Casale- Mast 1',\n",
       "       'Breganzona- Prevagno- Mast 1', 'Muzzano- Paese- Mast 1',\n",
       "       'Breganzona- Biogno- Mast 1', 'Breganzona- Posta- Mast 3',\n",
       "       'Breganzona- Camara Medi- Mast 1',\n",
       "       'Breganzona- Camara Scuole- Mast 1',\n",
       "       'Breganzona- Pianazzo- Mast 1', \"Breganzona- Vergio'- Mast 1\",\n",
       "       'Massagno- Cinque Vie- Mast 2', 'Lugano- Studio Radio- Mast 2',\n",
       "       'Lugano- S. Nicolao- Mast 2',\n",
       "       'Lugano- Stazione Piazza Besso- Mast 2',\n",
       "       'Lugano- Studio Radio- Mast 1', 'Massagno- Cinque Vie- Mast 1',\n",
       "       \"Breganzona- Vergio'- Mast 2\", 'Breganzona- Pianazzo- Mast 2',\n",
       "       'Breganzona- Camara Scuole- Mast 2',\n",
       "       'Breganzona- Camara Medi- Mast 2', 'Breganzona- Biogno- Mast 2',\n",
       "       'Muzzano- Paese- Mast 2', 'Breganzona- Prevagno- Mast 2',\n",
       "       'Breganzona- Via Casale- Mast 2', 'Cremignone- Paese- Mast 2',\n",
       "       'Cortivallo- Casa Anziani- Mast 2', 'Cortivallo- Paese- Mast 2',\n",
       "       'Sorengo- Moncucchetto- Mast 2',\n",
       "       'Lugano- Moncucco Clinica- Mast 2',\n",
       "       'Lugano- Moncucco Scuole- Mast 2', 'Breganzona- Posta- Mast 2',\n",
       "       'Canobbio- Mercato Resega- Mast 3', 'Breganzona- Posta- Mast 1',\n",
       "       'Pregassona- Fola- Mast 2', 'Viganello- Meridiana- Mast 2',\n",
       "       'Breganzona- Medi- Mast 2', 'Viganello- Via Molinazzo- Mast 2',\n",
       "       'Cassarate- Scuole- Mast 2', 'Cassarate- Scuole- Mast 1',\n",
       "       'Viganello- Via Molinazzo- Mast 1', 'Viganello- Bottogno- Mast 1',\n",
       "       'Viganello- Meridiana- Mast 1', 'Pregassona- Fola- Mast 1',\n",
       "       'Breganzona- Medi- Mast 1', 'Lugano- Pista Ghiaccio- Mast 1',\n",
       "       'Canobbio- Ganna- Mast 4', 'Canobbio- Stazione- Mast 6',\n",
       "       'Canobbio- Paese- Mast 4', 'Canobbio- Cioss- Mast 4',\n",
       "       'Trevano- Centro Studi- Mast 4', 'Lugano- Ronchetto- Mast 2',\n",
       "       \"Lugano- Ca' Rezzonico- Mast 2\",\n",
       "       'Lugano- Osp. Civico/Torricelli- Mast 2',\n",
       "       'Lugano- Via Tesserete- Mast 2', 'Massagno- Sassa- Mast 2',\n",
       "       'Massagno- Vicolo Vecchio- Mast 2', 'Lugano- Genzana- Mast 2',\n",
       "       'Lugano- Stazione- Mast 3', 'Massagno- Vicolo Vecchio- Mast 1',\n",
       "       'Massagno- Sassa- Mast 1', 'Lugano- Via Tesserete- Mast 1',\n",
       "       'Lugano- Osp. Civico/Torricelli- Mast 1',\n",
       "       \"Lugano- Ca' Rezzonico- Mast 1\", 'Lugano- Ronchetto- Mast 1',\n",
       "       'Trevano- Centro Studi- Mast 3', 'Canobbio- Cioss- Mast 3',\n",
       "       'Canobbio- Stazione- Mast 5', 'Canobbio- Ganna- Mast 3',\n",
       "       'Lugano- Piazza Rezzonico- Mast 1', 'Lugano- Bressanella- Mast 1',\n",
       "       'Lugano- Piazza Rezzonico- Mast 2',\n",
       "       'Lugano- Piazza Loreto- Mast 1',\n",
       "       'Pambio- S. Pietro Chiesa- Mast 1', 'Pambio- Paese- Mast 1',\n",
       "       'Noranco- Asilo Bagion- Mast 1', 'Noranco- Paese- Mast 1',\n",
       "       'Scairolo- Posteggio Nucleo- Mast 1',\n",
       "       'Pazzallo- Senago Bassa- Mast 1', 'Pazzallo- Senago- Mast 1',\n",
       "       'Pazzallo- Scuole Fano- Mast 1', 'Pazzallo- Senago- Mast 2',\n",
       "       'Pazzallo- Senago Bassa- Mast 2', 'Noranco- Furnas- Mast 1',\n",
       "       'TPL Posteggio Fornaci A', 'TPL Posteggio Fornaci E',\n",
       "       'Paradiso- Carzo- Mast 1', 'Paradiso- Brentino- Mast 2',\n",
       "       'Paradiso- Fontana- Mast 2', 'Paradiso- Debarcadero- Mast 2',\n",
       "       'Lugano- Malpensata- Mast 2', 'Lugano- Malpensata- Mast 1',\n",
       "       'Paradiso- Riva Paradiso- Mast 1',\n",
       "       'Paradiso- Stazione / Scuole- Mast 1',\n",
       "       'Paradiso- Stazione- Mast 1', 'Paradiso- Via Calprino- Mast 1',\n",
       "       'Paradiso- la Sguancia- Mast 1'], dtype=object)"
      ]
     },
     "execution_count": 205,
     "metadata": {},
     "output_type": "execute_result"
    }
   ],
   "source": [
    "client[:].scatter(df['fermata'].unique(), 'fermate')"
   ]
  },
  {
   "cell_type": "code",
   "execution_count": 186,
   "metadata": {
    "ExecuteTime": {
     "end_time": "2019-11-16T20:36:59.261071Z",
     "start_time": "2019-11-16T20:36:12.289329Z"
    }
   },
   "outputs": [
    {
     "data": {
      "image/png": "[encoded data removed]",
      "text/plain": [
       "<Figure size 432x288 with 1 Axes>"
      ]
     },
     "metadata": {
      "image/png": {
       "height": 263,
       "width": 390
      },
      "needs_background": "light"
     },
     "output_type": "display_data"
    }
   ],
   "source": [
    "ds = df[(df['linea']==1) | (df['linea']==2)].sample(10**5).copy()\n",
    "\n",
    "ds['datetime'  ] = ds['time'  ] + ' ' + ds['date']\n",
    "ds['datetime_p'] = ds['time_p'] + ' ' + ds['date']\n",
    "\n",
    "ds['date'      ] = pd.to_datetime(ds['date'      ])\n",
    "ds['datetime'  ] = pd.to_datetime(ds['datetime'  ])\n",
    "ds['datetime_p'] = pd.to_datetime(ds['datetime_p'])\n",
    "\n",
    "ds['weekday'] = ds['date'].dt.weekday # Lunedì = 0\n",
    "ds['weekend'] = np.where(ds['weekday']<5,0,1)\n",
    "\n",
    "# 1) Compute travel time\n",
    "ds['dur_p'] = ds.groupby(['corsa', 'date'])['datetime_p'].shift()\n",
    "ds['dur_p'] = (ds['datetime_p']-ds['dur_p']).fillna(0).astype(int)/10**9/60 # in minutes\n",
    "\n",
    "ds['dur'  ] = ds.groupby(['corsa', 'date'])['datetime'].shift()\n",
    "ds['dur'  ] = (ds['datetime']-ds['dur']).fillna(0).astype(int)/10**9/60 # in minutes\n",
    "\n",
    "# Remove events when the bus is stopped\n",
    "ds = ds[ds['dur']>0 ]\n",
    "\n",
    "# Remove huge outliers\n",
    "ds = ds[ds['dur']<20]\n",
    "\n",
    "# 2) Collapse across lines and days and compute sensitivity to traffic\n",
    "dz = ds.groupby(['indirizzo','weekend','hour'])[['dur', 'dur_p']].mean()\n",
    "\n",
    "minima = dz['dur'].unstack(level=2).min(axis=1)\n",
    "maxima = dz['dur'].unstack(level=2).max(axis=1)\n",
    "sensitivity = maxima / minima\n",
    "\n",
    "# 3) Collapse across lines\n",
    "dz = ds.groupby(['indirizzo','weekend','date', 'hour'])[['dur', 'dur_p']].mean()\n",
    "\n",
    "# 4) Compute `benchmark` travel time (median across days of the minimum across hours and lines)\n",
    "minima_2 = dz.groupby(['indirizzo','date'])[['dur', 'dur_p']].min()\n",
    "minima_3 = minima_2.groupby(['indirizzo'])[['dur', 'dur_p']].median()\n",
    "\n",
    "# 5) Compute Traffic Metric\n",
    "dz = dz.reset_index().set_index('indirizzo')\n",
    "dz['benchmark'  ] = minima_3['dur'  ]\n",
    "dz['benchmark_p'] = minima_3['dur_p']\n",
    "dz = dz.reset_index().set_index(['indirizzo', 'weekend', 'date', 'hour'])\n",
    "dz['traffic'  ] = np.maximum(dz['dur'  ] / dz['benchmark'  ] - 1, 0)\n",
    "dz['traffic_p'] = np.maximum(dz['dur_p'] / dz['benchmark_p'] - 1, 0)\n",
    "\n",
    "# Plot\n",
    "dz[['traffic']].hist(bins=25);"
   ]
  },
  {
   "cell_type": "code",
   "execution_count": 187,
   "metadata": {
    "ExecuteTime": {
     "end_time": "2019-11-16T20:37:58.946337Z",
     "start_time": "2019-11-16T20:37:58.939615Z"
    }
   },
   "outputs": [
    {
     "data": {
      "text/plain": [
       "75.45251"
      ]
     },
     "execution_count": 187,
     "metadata": {},
     "output_type": "execute_result"
    }
   ],
   "source": [
    "len(df)/10**5"
   ]
  },
  {
   "cell_type": "code",
   "execution_count": 208,
   "metadata": {
    "ExecuteTime": {
     "end_time": "2019-11-16T21:57:09.608854Z",
     "start_time": "2019-11-16T21:57:08.714593Z"
    }
   },
   "outputs": [],
   "source": [
    "res = pd.read_parquet(\"traffic.parquet\")"
   ]
  },
  {
   "cell_type": "code",
   "execution_count": null,
   "metadata": {},
   "outputs": [],
   "source": []
  },
  {
   "cell_type": "code",
   "execution_count": null,
   "metadata": {},
   "outputs": [],
   "source": []
  },
  {
   "cell_type": "code",
   "execution_count": null,
   "metadata": {},
   "outputs": [],
   "source": []
  },
  {
   "cell_type": "code",
   "execution_count": null,
   "metadata": {},
   "outputs": [],
   "source": []
  },
  {
   "cell_type": "code",
   "execution_count": null,
   "metadata": {},
   "outputs": [],
   "source": []
  },
  {
   "cell_type": "code",
   "execution_count": 149,
   "metadata": {
    "ExecuteTime": {
     "end_time": "2019-11-16T19:46:13.434409Z",
     "start_time": "2019-11-16T19:46:12.002795Z"
    }
   },
   "outputs": [
    {
     "data": {
      "image/png": "[encoded data removed]",
      "text/plain": [
       "<Figure size 1080x360 with 2 Axes>"
      ]
     },
     "metadata": {
      "image/png": {
       "height": 351,
       "width": 1071
      },
      "needs_background": "light"
     },
     "output_type": "display_data"
    }
   ],
   "source": [
    "#ds = ds[ds['indirizzo']=='Paradiso- Riva Paradiso- Mast 1']\n",
    "\n",
    "fig, (ax1,ax2) = plt.subplots(1,2, figsize=(15,5),sharey=True)\n",
    "te = ds.xs(0,level=1)\n",
    "\n",
    "te = te['dur'].unstack(level=1).mean()\n",
    "te.plot(kind='bar',ax=ax1);\n",
    "\n",
    "te = ds.xs(1,level=1)\n",
    "te = te['dur'].unstack(level=1).mean()\n",
    "\n",
    "te.plot(kind='bar',ax=ax2);\n",
    "\n",
    "ax1.set_title(\"Week\")\n",
    "ax2.set_title(\"Weekend\")\n",
    "plt.tight_layout();"
   ]
  },
  {
   "cell_type": "code",
   "execution_count": 151,
   "metadata": {
    "ExecuteTime": {
     "end_time": "2019-11-16T19:51:35.443180Z",
     "start_time": "2019-11-16T19:51:34.143557Z"
    }
   },
   "outputs": [
    {
     "data": {
      "image/png": "[encoded data removed]",
      "text/plain": [
       "<Figure size 1080x360 with 2 Axes>"
      ]
     },
     "metadata": {
      "image/png": {
       "height": 351,
       "width": 1071
      },
      "needs_background": "light"
     },
     "output_type": "display_data"
    }
   ],
   "source": [
    "dz = ds[ds['dur'  ]<20]\n",
    "\n",
    "dz = dz[dz['indirizzo']=='Paradiso- Debarcadero- Mast 1']\n",
    "dz = dz[dz['dur_p']<20]\n",
    "dz = dz[dz['dur_p']>0 ]\n",
    "dz = dz.groupby(['indirizzo','weekend','hour'])[['dur', 'dur_p']].mean()\n",
    "\n",
    "fig, (ax1,ax2) = plt.subplots(1,2, figsize=(15,5),sharey=True)\n",
    "te = dz.xs(0,level=1)\n",
    "\n",
    "te = te['dur'].unstack(level=1).mean()\n",
    "te.plot(kind='bar',ax=ax1);\n",
    "\n",
    "te = dz.xs(1,level=1)\n",
    "te = te['dur'].unstack(level=1).mean()\n",
    "\n",
    "te.plot(kind='bar',ax=ax2);\n",
    "\n",
    "ax1.set_title(\"Week\")\n",
    "ax2.set_title(\"Weekend\")\n",
    "plt.tight_layout();"
   ]
  },
  {
   "cell_type": "code",
   "execution_count": null,
   "metadata": {},
   "outputs": [],
   "source": []
  },
  {
   "cell_type": "code",
   "execution_count": null,
   "metadata": {},
   "outputs": [],
   "source": []
  },
  {
   "cell_type": "code",
   "execution_count": null,
   "metadata": {},
   "outputs": [],
   "source": []
  },
  {
   "cell_type": "code",
   "execution_count": null,
   "metadata": {},
   "outputs": [],
   "source": []
  },
  {
   "cell_type": "code",
   "execution_count": null,
   "metadata": {},
   "outputs": [],
   "source": []
  },
  {
   "cell_type": "code",
   "execution_count": 124,
   "metadata": {
    "ExecuteTime": {
     "end_time": "2019-11-16T19:06:35.304057Z",
     "start_time": "2019-11-16T19:06:35.284588Z"
    }
   },
   "outputs": [
    {
     "data": {
      "text/plain": [
       "6896"
      ]
     },
     "execution_count": 124,
     "metadata": {},
     "output_type": "execute_result"
    }
   ],
   "source": [
    "len(ds[ds['linea']=='S'])"
   ]
  },
  {
   "cell_type": "code",
   "execution_count": 150,
   "metadata": {
    "ExecuteTime": {
     "end_time": "2019-11-16T19:51:24.250008Z",
     "start_time": "2019-11-16T19:51:24.168925Z"
    }
   },
   "outputs": [
    {
     "data": {
      "text/plain": [
       "array(['Pazzallo- P&R Fornaci- Mast 1', 'Paradiso- Carzo- Mast 1',\n",
       "       'Paradiso- Brentino- Mast 2', 'Paradiso- Geretta- Mast 2',\n",
       "       'Paradiso- Fontana- Mast 2', 'Paradiso- Debarcadero- Mast 2',\n",
       "       'Lugano- Malpensata- Mast 2', 'Lugano- Piazza Luini- Mast 2',\n",
       "       'Lugano- Piazza Rezzonico- Mast 2',\n",
       "       'Lugano- Piazza Manzoni- Mast 2', 'Lugano- Centro- Mast 5',\n",
       "       'Lugano- Piazza Manzoni- Mast 1',\n",
       "       'Lugano- Piazza Rezzonico- Mast 1', 'Lugano- Piazza Luini- Mast 1',\n",
       "       'Lugano- Malpensata- Mast 1', 'Paradiso- Debarcadero- Mast 1',\n",
       "       'Paradiso- Riva Paradiso- Mast 1',\n",
       "       'Paradiso- Stazione / Scuole- Mast 1',\n",
       "       'Paradiso- Stazione- Mast 1', 'Paradiso- Via Calprino- Mast 1',\n",
       "       'Paradiso- la Sguancia- Mast 1', \"TPL Rimessa Rugi' A\",\n",
       "       \"TPL Rimessa Rugi' E\"], dtype=object)"
      ]
     },
     "execution_count": 150,
     "metadata": {},
     "output_type": "execute_result"
    }
   ],
   "source": [
    "ds['indirizzo'].unique()"
   ]
  },
  {
   "cell_type": "code",
   "execution_count": null,
   "metadata": {},
   "outputs": [],
   "source": []
  },
  {
   "cell_type": "code",
   "execution_count": null,
   "metadata": {},
   "outputs": [],
   "source": []
  },
  {
   "cell_type": "code",
   "execution_count": null,
   "metadata": {},
   "outputs": [],
   "source": []
  },
  {
   "cell_type": "code",
   "execution_count": null,
   "metadata": {},
   "outputs": [],
   "source": []
  },
  {
   "cell_type": "code",
   "execution_count": null,
   "metadata": {},
   "outputs": [],
   "source": []
  }
 ],
 "metadata": {
  "kernelspec": {
   "display_name": "Python 3",
   "language": "python",
   "name": "python3"
  },
  "language_info": {
   "codemirror_mode": {
    "name": "ipython",
    "version": 3
   },
   "file_extension": ".py",
   "mimetype": "text/x-python",
   "name": "python",
   "nbconvert_exporter": "python",
   "pygments_lexer": "ipython3",
   "version": "3.6.7"
  },
  "toc": {
   "colors": {
    "hover_highlight": "#DAA520",
    "navigate_num": "#000000",
    "navigate_text": "#333333",
    "running_highlight": "#FF0000",
    "selected_highlight": "#FFD700",
    "sidebar_border": "#EEEEEE",
    "wrapper_background": "#FFFFFF"
   },
   "moveMenuLeft": true,
   "nav_menu": {
    "height": "11.9886px",
    "width": "251.989px"
   },
   "navigate_menu": true,
   "number_sections": true,
   "sideBar": true,
   "threshold": 4,
   "toc_cell": false,
   "toc_section_display": "block",
   "toc_window_display": false,
   "widenNotebook": false
  }
 },
 "nbformat": 4,
 "nbformat_minor": 2
}
