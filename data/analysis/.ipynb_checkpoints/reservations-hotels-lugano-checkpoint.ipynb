{
 "cells": [
  {
   "cell_type": "markdown",
   "metadata": {},
   "source": [
    "# Reservations and stays in the hotels of Lugano"
   ]
  },
  {
   "cell_type": "markdown",
   "metadata": {},
   "source": [
    "## Auxiliars"
   ]
  },
  {
   "cell_type": "code",
   "execution_count": 1,
   "metadata": {
    "ExecuteTime": {
     "end_time": "2019-11-15T23:16:30.062338Z",
     "start_time": "2019-11-15T23:16:30.058432Z"
    }
   },
   "outputs": [],
   "source": [
    "import pandas as pd\n",
    "import numpy as np\n",
    "import matplotlib.pyplot as plt\n",
    "from pandas.tseries.offsets import *"
   ]
  },
  {
   "cell_type": "code",
   "execution_count": 2,
   "metadata": {},
   "outputs": [],
   "source": [
    "path = \"../data/city_of_lugano/demographics/\""
   ]
  },
  {
   "cell_type": "code",
   "execution_count": 3,
   "metadata": {
    "ExecuteTime": {
     "end_time": "2019-11-15T23:16:30.249506Z",
     "start_time": "2019-11-15T23:16:30.237904Z"
    }
   },
   "outputs": [],
   "source": [
    "def read_quarterly_data(file_name):\n",
    "    dfs = []\n",
    "    for year in np.arange(2008, 2019):\n",
    "        for quarter in np.arange(1, 5):\n",
    "            df = pd.read_json(path+\"{0}/{1}/\".format(year, quarter)+file_name+'.json')\n",
    "            df['year'] = year\n",
    "            df['quarter'] = quarter\n",
    "            df['yq'] = pd.datetime(year,quarter*3-2,1)\n",
    "            dfs.append(df)\n",
    "\n",
    "    df = pd.concat(dfs)\n",
    "    return df"
   ]
  },
  {
   "cell_type": "markdown",
   "metadata": {},
   "source": [
    "## Analysis"
   ]
  },
  {
   "cell_type": "markdown",
   "metadata": {},
   "source": [
    "### Pre-processing"
   ]
  },
  {
   "cell_type": "markdown",
   "metadata": {},
   "source": [
    "#### Translating columns and parsing date"
   ]
  },
  {
   "cell_type": "code",
   "execution_count": 4,
   "metadata": {
    "ExecuteTime": {
     "end_time": "2019-11-15T23:16:32.282485Z",
     "start_time": "2019-11-15T23:16:30.625432Z"
    }
   },
   "outputs": [
    {
     "data": {
      "text/html": [
       "<div>\n",
       "<style scoped>\n",
       "    .dataframe tbody tr th:only-of-type {\n",
       "        vertical-align: middle;\n",
       "    }\n",
       "\n",
       "    .dataframe tbody tr th {\n",
       "        vertical-align: top;\n",
       "    }\n",
       "\n",
       "    .dataframe thead th {\n",
       "        text-align: right;\n",
       "    }\n",
       "</style>\n",
       "<table border=\"1\" class=\"dataframe\">\n",
       "  <thead>\n",
       "    <tr style=\"text-align: right;\">\n",
       "      <th></th>\n",
       "      <th>id</th>\n",
       "      <th>date-arrived</th>\n",
       "      <th>date-left</th>\n",
       "      <th>duration</th>\n",
       "      <th>date-creation</th>\n",
       "      <th>date-cancellation</th>\n",
       "      <th>num-reserved-rooms</th>\n",
       "      <th>num-guests</th>\n",
       "      <th>overall-revenue</th>\n",
       "      <th>rooms-revenue</th>\n",
       "      <th>room-type</th>\n",
       "      <th>state</th>\n",
       "      <th>treatment</th>\n",
       "      <th>channel</th>\n",
       "      <th>market</th>\n",
       "      <th>nationality</th>\n",
       "    </tr>\n",
       "  </thead>\n",
       "  <tbody>\n",
       "    <tr>\n",
       "      <th>0</th>\n",
       "      <td>43469</td>\n",
       "      <td>2019-01-04</td>\n",
       "      <td>2019-01-07</td>\n",
       "      <td>3</td>\n",
       "      <td>04-gen-19</td>\n",
       "      <td>NaN</td>\n",
       "      <td>1</td>\n",
       "      <td>2</td>\n",
       "      <td>0</td>\n",
       "      <td>0</td>\n",
       "      <td>JS - TVL</td>\n",
       "      <td>Cancellata</td>\n",
       "      <td>Bed &amp; Breakfast</td>\n",
       "      <td>Sito Web</td>\n",
       "      <td>Gruppi Leisure</td>\n",
       "      <td>Italia</td>\n",
       "    </tr>\n",
       "    <tr>\n",
       "      <th>1</th>\n",
       "      <td>43623</td>\n",
       "      <td>2019-06-06</td>\n",
       "      <td>2019-06-16</td>\n",
       "      <td>10</td>\n",
       "      <td>07-giu-19</td>\n",
       "      <td>NaN</td>\n",
       "      <td>1</td>\n",
       "      <td>2</td>\n",
       "      <td>0</td>\n",
       "      <td>0</td>\n",
       "      <td>JS - TVL</td>\n",
       "      <td>Cancellata</td>\n",
       "      <td>Bed &amp; Breakfast</td>\n",
       "      <td>Sito Web</td>\n",
       "      <td>Gruppi Leisure</td>\n",
       "      <td>Non Specificato</td>\n",
       "    </tr>\n",
       "    <tr>\n",
       "      <th>2</th>\n",
       "      <td>43505</td>\n",
       "      <td>2019-02-09</td>\n",
       "      <td>2019-02-11</td>\n",
       "      <td>2</td>\n",
       "      <td>10-feb-19</td>\n",
       "      <td>NaN</td>\n",
       "      <td>1</td>\n",
       "      <td>1</td>\n",
       "      <td>0</td>\n",
       "      <td>0</td>\n",
       "      <td>JS - TVL</td>\n",
       "      <td>Cancellata</td>\n",
       "      <td>Bed &amp; Breakfast</td>\n",
       "      <td>Sito Web</td>\n",
       "      <td>Gruppi Leisure</td>\n",
       "      <td>Non Specificato</td>\n",
       "    </tr>\n",
       "    <tr>\n",
       "      <th>3</th>\n",
       "      <td>43512</td>\n",
       "      <td>2019-02-16</td>\n",
       "      <td>2019-02-18</td>\n",
       "      <td>2</td>\n",
       "      <td>16-feb-19</td>\n",
       "      <td>NaN</td>\n",
       "      <td>1</td>\n",
       "      <td>2</td>\n",
       "      <td>0</td>\n",
       "      <td>0</td>\n",
       "      <td>SUI- TVL</td>\n",
       "      <td>Cancellata</td>\n",
       "      <td>Bed &amp; Breakfast</td>\n",
       "      <td>Sito Web</td>\n",
       "      <td>Gruppi Business</td>\n",
       "      <td>Svizzera</td>\n",
       "    </tr>\n",
       "    <tr>\n",
       "      <th>4</th>\n",
       "      <td>43601</td>\n",
       "      <td>2019-05-16</td>\n",
       "      <td>2019-05-19</td>\n",
       "      <td>3</td>\n",
       "      <td>16-mag-19</td>\n",
       "      <td>NaN</td>\n",
       "      <td>1</td>\n",
       "      <td>2</td>\n",
       "      <td>0</td>\n",
       "      <td>0</td>\n",
       "      <td>JS - TVL</td>\n",
       "      <td>Cancellata</td>\n",
       "      <td>Bed &amp; Breakfast</td>\n",
       "      <td>Sito Web</td>\n",
       "      <td>Gruppi Business</td>\n",
       "      <td>Svizzera</td>\n",
       "    </tr>\n",
       "  </tbody>\n",
       "</table>\n",
       "</div>"
      ],
      "text/plain": [
       "      id date-arrived  date-left duration date-creation date-cancellation  \\\n",
       "0  43469   2019-01-04 2019-01-07        3     04-gen-19               NaN   \n",
       "1  43623   2019-06-06 2019-06-16       10     07-giu-19               NaN   \n",
       "2  43505   2019-02-09 2019-02-11        2     10-feb-19               NaN   \n",
       "3  43512   2019-02-16 2019-02-18        2     16-feb-19               NaN   \n",
       "4  43601   2019-05-16 2019-05-19        3     16-mag-19               NaN   \n",
       "\n",
       "  num-reserved-rooms num-guests overall-revenue rooms-revenue room-type  \\\n",
       "0                  1          2               0             0  JS - TVL   \n",
       "1                  1          2               0             0  JS - TVL   \n",
       "2                  1          1               0             0  JS - TVL   \n",
       "3                  1          2               0             0  SUI- TVL   \n",
       "4                  1          2               0             0  JS - TVL   \n",
       "\n",
       "        state        treatment   channel           market      nationality  \n",
       "0  Cancellata  Bed & Breakfast  Sito Web   Gruppi Leisure           Italia  \n",
       "1  Cancellata  Bed & Breakfast  Sito Web   Gruppi Leisure  Non Specificato  \n",
       "2  Cancellata  Bed & Breakfast  Sito Web   Gruppi Leisure  Non Specificato  \n",
       "3  Cancellata  Bed & Breakfast  Sito Web  Gruppi Business         Svizzera  \n",
       "4  Cancellata  Bed & Breakfast  Sito Web  Gruppi Business         Svizzera  "
      ]
     },
     "execution_count": 4,
     "metadata": {},
     "output_type": "execute_result"
    }
   ],
   "source": [
    "df = pd.read_csv(\"../data/h_benchmark/Lugano-prenotazioniv2.csv\", sep=';', dtype=str)\n",
    "\n",
    "df.columns = [\n",
    "    \"id\",\n",
    "    \"date-arrived\",\n",
    "    \"date-left\",\n",
    "    \"duration\",\n",
    "    \"date-creation\",\n",
    "    \"date-cancellation\",\n",
    "    \"num-reserved-rooms\",\n",
    "    \"num-guests\",\n",
    "    \"overall-revenue\",\n",
    "    \"rooms-revenue\",\n",
    "    \"room-type\",\n",
    "    \"state\",\n",
    "    \"treatment\",\n",
    "    \"channel\",\n",
    "    \"market\",\n",
    "    \"nationality\"\n",
    "]\n",
    "\n",
    "tra = [\n",
    "    (\"gen\",\"1\"), (\"feb\",\"2\"), (\"mar\",\"3\"), (\"apr\",\"4\"), (\"mag\",\"5\"), (\"giu\",\"6\"), \n",
    "    (\"lug\",\"7\"), (\"ago\",\"8\"), (\"set\",\"9\"), (\"ott\",\"10\"), (\"nov\",\"11\"), (\"dic\",\"12\"),\n",
    "]\n",
    "\n",
    "for dates in ['date-arrived', 'date-left']:\n",
    "    for tr in tra:\n",
    "        df[dates] = df[dates].apply(lambda x : x.replace(*tr))\n",
    "    df[dates] = pd.to_datetime(df[dates], format='%d-%m-%y')\n",
    "        \n",
    "df.head(5)"
   ]
  },
  {
   "cell_type": "code",
   "execution_count": 5,
   "metadata": {},
   "outputs": [
    {
     "name": "stdout",
     "output_type": "stream",
     "text": [
      "(102999, 16)\n",
      "(102999, 16)\n",
      "(25733, 16)\n"
     ]
    }
   ],
   "source": [
    "print(df.shape)\n",
    "print(df.drop_duplicates().shape)\n",
    "print(df.dropna().shape)"
   ]
  },
  {
   "cell_type": "markdown",
   "metadata": {},
   "source": [
    "#### Taking out useless states (cancelled and no show)"
   ]
  },
  {
   "cell_type": "code",
   "execution_count": 6,
   "metadata": {},
   "outputs": [
    {
     "data": {
      "text/html": [
       "<div>\n",
       "<style scoped>\n",
       "    .dataframe tbody tr th:only-of-type {\n",
       "        vertical-align: middle;\n",
       "    }\n",
       "\n",
       "    .dataframe tbody tr th {\n",
       "        vertical-align: top;\n",
       "    }\n",
       "\n",
       "    .dataframe thead th {\n",
       "        text-align: right;\n",
       "    }\n",
       "</style>\n",
       "<table border=\"1\" class=\"dataframe\">\n",
       "  <thead>\n",
       "    <tr style=\"text-align: right;\">\n",
       "      <th></th>\n",
       "      <th>id</th>\n",
       "      <th>date-arrived</th>\n",
       "      <th>date-left</th>\n",
       "      <th>duration</th>\n",
       "      <th>date-creation</th>\n",
       "      <th>date-cancellation</th>\n",
       "      <th>num-reserved-rooms</th>\n",
       "      <th>num-guests</th>\n",
       "      <th>overall-revenue</th>\n",
       "      <th>rooms-revenue</th>\n",
       "      <th>room-type</th>\n",
       "      <th>state</th>\n",
       "      <th>treatment</th>\n",
       "      <th>channel</th>\n",
       "      <th>market</th>\n",
       "      <th>nationality</th>\n",
       "    </tr>\n",
       "  </thead>\n",
       "  <tbody>\n",
       "    <tr>\n",
       "      <th>24</th>\n",
       "      <td>262771</td>\n",
       "      <td>2019-06-18</td>\n",
       "      <td>2019-06-22</td>\n",
       "      <td>4</td>\n",
       "      <td>04-nov-16</td>\n",
       "      <td>NaN</td>\n",
       "      <td>1</td>\n",
       "      <td>1</td>\n",
       "      <td>1100</td>\n",
       "      <td>1060</td>\n",
       "      <td>JS - TVL</td>\n",
       "      <td>Check-out</td>\n",
       "      <td>Bed &amp; Breakfast</td>\n",
       "      <td>Diretto</td>\n",
       "      <td>Gruppi Business</td>\n",
       "      <td>Cechia</td>\n",
       "    </tr>\n",
       "    <tr>\n",
       "      <th>25</th>\n",
       "      <td>262772</td>\n",
       "      <td>2019-06-18</td>\n",
       "      <td>2019-06-21</td>\n",
       "      <td>3</td>\n",
       "      <td>04-nov-16</td>\n",
       "      <td>NaN</td>\n",
       "      <td>1</td>\n",
       "      <td>1</td>\n",
       "      <td>1100</td>\n",
       "      <td>1060</td>\n",
       "      <td>JS - TVL</td>\n",
       "      <td>Check-out</td>\n",
       "      <td>Bed &amp; Breakfast</td>\n",
       "      <td>Diretto</td>\n",
       "      <td>Gruppi Business</td>\n",
       "      <td>Stati Uniti</td>\n",
       "    </tr>\n",
       "    <tr>\n",
       "      <th>26</th>\n",
       "      <td>262773</td>\n",
       "      <td>2019-06-18</td>\n",
       "      <td>2019-06-22</td>\n",
       "      <td>4</td>\n",
       "      <td>04-nov-16</td>\n",
       "      <td>NaN</td>\n",
       "      <td>1</td>\n",
       "      <td>1</td>\n",
       "      <td>1100</td>\n",
       "      <td>1060</td>\n",
       "      <td>JS - TVL</td>\n",
       "      <td>Check-out</td>\n",
       "      <td>Bed &amp; Breakfast</td>\n",
       "      <td>Diretto</td>\n",
       "      <td>Gruppi Business</td>\n",
       "      <td>Cechia</td>\n",
       "    </tr>\n",
       "    <tr>\n",
       "      <th>27</th>\n",
       "      <td>262774</td>\n",
       "      <td>2019-06-17</td>\n",
       "      <td>2019-06-22</td>\n",
       "      <td>5</td>\n",
       "      <td>04-nov-16</td>\n",
       "      <td>NaN</td>\n",
       "      <td>1</td>\n",
       "      <td>1</td>\n",
       "      <td>1100</td>\n",
       "      <td>1060</td>\n",
       "      <td>JS - TVL</td>\n",
       "      <td>Check-out</td>\n",
       "      <td>Bed &amp; Breakfast</td>\n",
       "      <td>Diretto</td>\n",
       "      <td>Gruppi Business</td>\n",
       "      <td>Stati Uniti</td>\n",
       "    </tr>\n",
       "    <tr>\n",
       "      <th>28</th>\n",
       "      <td>262775</td>\n",
       "      <td>2019-06-17</td>\n",
       "      <td>2019-06-22</td>\n",
       "      <td>5</td>\n",
       "      <td>04-nov-16</td>\n",
       "      <td>NaN</td>\n",
       "      <td>1</td>\n",
       "      <td>1</td>\n",
       "      <td>1100</td>\n",
       "      <td>1060</td>\n",
       "      <td>JS - TVL</td>\n",
       "      <td>Check-out</td>\n",
       "      <td>Bed &amp; Breakfast</td>\n",
       "      <td>Diretto</td>\n",
       "      <td>Gruppi Business</td>\n",
       "      <td>Stati Uniti</td>\n",
       "    </tr>\n",
       "  </tbody>\n",
       "</table>\n",
       "</div>"
      ],
      "text/plain": [
       "        id date-arrived  date-left duration date-creation date-cancellation  \\\n",
       "24  262771   2019-06-18 2019-06-22        4     04-nov-16               NaN   \n",
       "25  262772   2019-06-18 2019-06-21        3     04-nov-16               NaN   \n",
       "26  262773   2019-06-18 2019-06-22        4     04-nov-16               NaN   \n",
       "27  262774   2019-06-17 2019-06-22        5     04-nov-16               NaN   \n",
       "28  262775   2019-06-17 2019-06-22        5     04-nov-16               NaN   \n",
       "\n",
       "   num-reserved-rooms num-guests overall-revenue rooms-revenue room-type  \\\n",
       "24                  1          1            1100          1060  JS - TVL   \n",
       "25                  1          1            1100          1060  JS - TVL   \n",
       "26                  1          1            1100          1060  JS - TVL   \n",
       "27                  1          1            1100          1060  JS - TVL   \n",
       "28                  1          1            1100          1060  JS - TVL   \n",
       "\n",
       "        state        treatment  channel           market  nationality  \n",
       "24  Check-out  Bed & Breakfast  Diretto  Gruppi Business       Cechia  \n",
       "25  Check-out  Bed & Breakfast  Diretto  Gruppi Business  Stati Uniti  \n",
       "26  Check-out  Bed & Breakfast  Diretto  Gruppi Business       Cechia  \n",
       "27  Check-out  Bed & Breakfast  Diretto  Gruppi Business  Stati Uniti  \n",
       "28  Check-out  Bed & Breakfast  Diretto  Gruppi Business  Stati Uniti  "
      ]
     },
     "execution_count": 6,
     "metadata": {},
     "output_type": "execute_result"
    }
   ],
   "source": [
    "dfattended = df[df['state'] != \"Cancellata\"]\n",
    "dfattended = dfattended[dfattended['state'] != \"No show\"]\n",
    "dfattended.head()"
   ]
  },
  {
   "cell_type": "markdown",
   "metadata": {},
   "source": [
    "#### Function to calculate frequency for a specific limit"
   ]
  },
  {
   "cell_type": "code",
   "execution_count": 15,
   "metadata": {},
   "outputs": [],
   "source": [
    "def graph_frequency(df, label, drop=None, limit=None, rangePlot=None):\n",
    "    dfreturn = df[label].value_counts()\n",
    "    if limit != None:\n",
    "        dfreturn = dfreturn[dfreturn.index.astype(int) < limit]\n",
    "    \n",
    "    if drop != None:\n",
    "        for d in drop:\n",
    "            dfreturn.drop(labels=d)\n",
    "        \n",
    "    axreturn = dfreturn.plot.bar(figsize=(15,10), fontsize=13)\n",
    "    axreturn.set_title(\"Frequency of guests\", fontdict={'fontsize': 16, 'fontweight': 'bold'})\n",
    "    \n",
    "    return axreturn"
   ]
  },
  {
   "cell_type": "markdown",
   "metadata": {},
   "source": [
    "### Frequency of movements"
   ]
  },
  {
   "cell_type": "code",
   "execution_count": 7,
   "metadata": {
    "ExecuteTime": {
     "end_time": "2019-11-15T23:18:10.926524Z",
     "start_time": "2019-11-15T23:18:10.701569Z"
    }
   },
   "outputs": [],
   "source": [
    "dfattended['yq'] = dfattended['date-arrived'].dt.year.astype(str) + dfattended['date-arrived'].dt.quarter.astype(str)"
   ]
  },
  {
   "cell_type": "code",
   "execution_count": 8,
   "metadata": {
    "ExecuteTime": {
     "end_time": "2019-11-15T23:23:30.426104Z",
     "start_time": "2019-11-15T23:23:30.163594Z"
    }
   },
   "outputs": [
    {
     "data": {
      "text/plain": [
       "Text(0.5, 1.0, 'Frequency of movements per period')"
      ]
     },
     "execution_count": 8,
     "metadata": {},
     "output_type": "execute_result"
    },
    {
     "data": {
      "image/png": "[encoded data removed]",
      "text/plain": [
       "<Figure size 1080x720 with 1 Axes>"
      ]
     },
     "metadata": {
      "needs_background": "light"
     },
     "output_type": "display_data"
    }
   ],
   "source": [
    "dfattended['yq'] = dfattended['date-arrived'].dt.to_period('Q').dt.to_timestamp('Q')\n",
    "dfattended['yq'] = dfattended['yq'] - BMonthBegin(3)\n",
    "arrivals = dfattended.groupby(['yq']).size()\n",
    "ax_arrivals = arrivals.plot(marker='o', figsize=(15,10), fontsize=13)\n",
    "ax_arrivals.set_title(\"Frequency of movements per period\", fontdict={'fontsize': 16, 'fontweight': 'bold'})"
   ]
  },
  {
   "cell_type": "code",
   "execution_count": 9,
   "metadata": {},
   "outputs": [
    {
     "data": {
      "text/plain": [
       "Text(0.5, 1.0, 'Frequency of movements per nationality')"
      ]
     },
     "execution_count": 9,
     "metadata": {},
     "output_type": "execute_result"
    },
    {
     "data": {
      "image/png": "[encoded data removed]",
      "text/plain": [
       "<Figure size 1080x720 with 1 Axes>"
      ]
     },
     "metadata": {
      "needs_background": "light"
     },
     "output_type": "display_data"
    }
   ],
   "source": [
    "dfnat = dfattended['nationality'].value_counts().drop(labels='Non Specificato')\n",
    "ax = dfnat[0:22].plot.bar(figsize=(15,10), fontsize=13)\n",
    "ax.set_title(\"Frequency of movements per nationality\", fontdict={'fontsize': 16, 'fontweight': 'bold'})"
   ]
  },
  {
   "cell_type": "code",
   "execution_count": 10,
   "metadata": {},
   "outputs": [
    {
     "data": {
      "text/plain": [
       "154"
      ]
     },
     "execution_count": 10,
     "metadata": {},
     "output_type": "execute_result"
    }
   ],
   "source": [
    "dfattended['nationality'].nunique()"
   ]
  },
  {
   "cell_type": "markdown",
   "metadata": {},
   "source": [
    "### Frequency of duration days"
   ]
  },
  {
   "cell_type": "code",
   "execution_count": 16,
   "metadata": {},
   "outputs": [
    {
     "data": {
      "text/plain": [
       "<matplotlib.axes._subplots.AxesSubplot at 0x7f0b9c05a978>"
      ]
     },
     "execution_count": 16,
     "metadata": {},
     "output_type": "execute_result"
    },
    {
     "data": {
      "image/png": "[encoded data removed]",
      "text/plain": [
       "<Figure size 1080x720 with 1 Axes>"
      ]
     },
     "metadata": {
      "needs_background": "light"
     },
     "output_type": "display_data"
    }
   ],
   "source": [
    "graph_frequency(dfattended, 'duration', 10)"
   ]
  },
  {
   "cell_type": "markdown",
   "metadata": {},
   "source": [
    "### Number of guests"
   ]
  },
  {
   "cell_type": "code",
   "execution_count": 17,
   "metadata": {},
   "outputs": [
    {
     "data": {
      "text/plain": [
       "<matplotlib.axes._subplots.AxesSubplot at 0x7f0b9c34ecc0>"
      ]
     },
     "execution_count": 17,
     "metadata": {},
     "output_type": "execute_result"
    },
    {
     "data": {
      "image/png": "[encoded data removed]",
      "text/plain": [
       "<Figure size 1080x720 with 1 Axes>"
      ]
     },
     "metadata": {
      "needs_background": "light"
     },
     "output_type": "display_data"
    }
   ],
   "source": [
    "graph_frequency(dfattended, 'num-guests', 8)"
   ]
  },
  {
   "cell_type": "markdown",
   "metadata": {},
   "source": [
    "### Number of reserved rooms"
   ]
  },
  {
   "cell_type": "code",
   "execution_count": null,
   "metadata": {},
   "outputs": [],
   "source": []
  }
 ],
 "metadata": {
  "kernelspec": {
   "display_name": "Python 3",
   "language": "python",
   "name": "python3"
  },
  "language_info": {
   "codemirror_mode": {
    "name": "ipython",
    "version": 3
   },
   "file_extension": ".py",
   "mimetype": "text/x-python",
   "name": "python",
   "nbconvert_exporter": "python",
   "pygments_lexer": "ipython3",
   "version": "3.7.1"
  },
  "toc": {
   "colors": {
    "hover_highlight": "#DAA520",
    "navigate_num": "#000000",
    "navigate_text": "#333333",
    "running_highlight": "#FF0000",
    "selected_highlight": "#FFD700",
    "sidebar_border": "#EEEEEE",
    "wrapper_background": "#FFFFFF"
   },
   "moveMenuLeft": true,
   "nav_menu": {
    "height": "66px",
    "width": "252px"
   },
   "navigate_menu": true,
   "number_sections": true,
   "sideBar": true,
   "threshold": 4,
   "toc_cell": false,
   "toc_section_display": "block",
   "toc_window_display": false,
   "widenNotebook": false
  }
 },
 "nbformat": 4,
 "nbformat_minor": 2
}
