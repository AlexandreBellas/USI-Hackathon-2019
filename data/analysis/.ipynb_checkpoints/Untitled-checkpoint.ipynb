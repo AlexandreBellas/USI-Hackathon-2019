{
 "cells": [
  {
   "cell_type": "code",
   "execution_count": 1,
   "metadata": {
    "ExecuteTime": {
     "end_time": "2019-11-17T01:00:20.681745Z",
     "start_time": "2019-11-17T01:00:19.906700Z"
    }
   },
   "outputs": [
    {
     "name": "stdout",
     "output_type": "stream",
     "text": [
      "Populating the interactive namespace from numpy and matplotlib\n"
     ]
    }
   ],
   "source": [
    "import os; import pandas as pd; import numpy  as np\n",
    "from pandas.tseries.offsets import *\n",
    "import statsmodels.formula.api as smf\n",
    "%pylab inline\n",
    "%config InlineBackend.figure_format = 'retina'"
   ]
  },
  {
   "cell_type": "code",
   "execution_count": 82,
   "metadata": {
    "ExecuteTime": {
     "end_time": "2019-11-17T11:33:28.165228Z",
     "start_time": "2019-11-17T11:33:27.420773Z"
    }
   },
   "outputs": [],
   "source": [
    "path = \"../data/tpl/lines_events/\"\n",
    "tra  = pd.read_parquet(path+\"traffic.parquet\")"
   ]
  },
  {
   "cell_type": "markdown",
   "metadata": {},
   "source": [
    "## Traffic over Time"
   ]
  },
  {
   "cell_type": "code",
   "execution_count": null,
   "metadata": {
    "ExecuteTime": {
     "start_time": "2019-11-17T11:33:28.643Z"
    }
   },
   "outputs": [],
   "source": [
    "ds = tra.copy()\n",
    "ds = ds[ds.index.get_level_values(2)>=pd.datetime(2019,1 ,1)]\n",
    "ds = ds[ds.index.get_level_values(2)<=pd.datetime(2019,10,1)].copy()\n",
    "ds['month'] = ds.index.get_level_values(2).to_period('M').to_timestamp('M')\n",
    "fig, ax1 = plt.subplots(1,1, figsize=(10,5))\n",
    "ds.groupby(['month'])['traffic'].mean().plot(ax=ax1, marker='o', label='Traffic Index');\n",
    "ax1.set_title(\"Traffic Trend\")\n",
    "ax1.xaxis.set_label_text(\"\");\n",
    "ax1.yaxis.set_label_text(\"\");\n",
    "ax1.legend(frameon=True);\n",
    "plt.tight_layout();\n",
    "plt.savefig(\"trend.png\");"
   ]
  },
  {
   "cell_type": "markdown",
   "metadata": {},
   "source": [
    "## Nationalities of Visiting People"
   ]
  },
  {
   "cell_type": "code",
   "execution_count": 25,
   "metadata": {
    "ExecuteTime": {
     "end_time": "2019-11-17T01:07:40.438192Z",
     "start_time": "2019-11-17T01:07:20.984807Z"
    }
   },
   "outputs": [],
   "source": [
    "nat = pd.read_csv(\"../analysis/nationalities_incoming.csv\", parse_dates=['Date']).set_index('Date')\n",
    "tra = tra.reset_index().set_index('date')\n",
    "tra[nat.columns] = nat\n",
    "tra = tra.reset_index().set_index(['fermata', 'weekend', 'date', 'hour'])\n",
    "\n",
    "peo = pd.read_csv(\"../analysis/people_total.csv\", parse_dates=['date']).set_index(['date', 'hour'])\n",
    "tra = tra.reset_index()\n",
    "tra['hour'] = tra['hour'].astype(int)\n",
    "tra = tra.set_index(['date','hour'])\n",
    "tra[peo.columns] = peo\n",
    "tra = tra.reset_index().set_index(['fermata', 'weekend', 'date', 'hour'])"
   ]
  },
  {
   "cell_type": "code",
   "execution_count": 38,
   "metadata": {
    "ExecuteTime": {
     "end_time": "2019-11-17T01:10:14.065820Z",
     "start_time": "2019-11-17T01:10:13.778692Z"
    }
   },
   "outputs": [],
   "source": [
    "ds = tra.dropna().copy()\n",
    "ds['tot_car'] = ds['Road'] + ds['Highway']\n",
    "\n",
    "for col in nat.columns:\n",
    "    ds[col] = ds[col] * ds['tot_car'] / 100\n",
    "    \n",
    "    # Standardize\n",
    "    ds[col] = ds[col] / ds[col].std() "
   ]
  },
  {
   "cell_type": "code",
   "execution_count": 55,
   "metadata": {
    "ExecuteTime": {
     "end_time": "2019-11-17T01:13:53.781413Z",
     "start_time": "2019-11-17T01:13:53.704854Z"
    }
   },
   "outputs": [
    {
     "name": "stdout",
     "output_type": "stream",
     "text": [
      "All days\n",
      "R-squared: 3.30%, N: 467\n"
     ]
    },
    {
     "data": {
      "text/html": [
       "<table class=\"simpletable\">\n",
       "<tr>\n",
       "       <td></td>          <th>coef</th>     <th>std err</th>      <th>t</th>      <th>P>|t|</th>  <th>[0.025</th>    <th>0.975]</th>  \n",
       "</tr>\n",
       "<tr>\n",
       "  <th>Intercept</th>   <td>   -0.9441</td> <td>    0.366</td> <td>   -2.578</td> <td> 0.010</td> <td>   -1.664</td> <td>   -0.224</td>\n",
       "</tr>\n",
       "<tr>\n",
       "  <th>Italy</th>       <td>   -0.0159</td> <td>    0.007</td> <td>   -2.376</td> <td> 0.018</td> <td>   -0.029</td> <td>   -0.003</td>\n",
       "</tr>\n",
       "<tr>\n",
       "  <th>Switzerland</th> <td>    0.0208</td> <td>    0.005</td> <td>    3.955</td> <td> 0.000</td> <td>    0.010</td> <td>    0.031</td>\n",
       "</tr>\n",
       "</table>"
      ],
      "text/plain": [
       "<class 'statsmodels.iolib.table.SimpleTable'>"
      ]
     },
     "execution_count": 55,
     "metadata": {},
     "output_type": "execute_result"
    }
   ],
   "source": [
    "print('All days')\n",
    "reg = smf.ols(\" traffic ~ Italy + Switzerland\", ds.groupby(['date', 'hour']).mean()).fit()\n",
    "print(\"R-squared: {0:1.2f}%, N: {1:1,.0f}\".format(reg.rsquared*100, reg.nobs))\n",
    "reg.summary().tables[1]"
   ]
  },
  {
   "cell_type": "markdown",
   "metadata": {
    "heading_collapsed": true
   },
   "source": [
    "### ..."
   ]
  },
  {
   "cell_type": "code",
   "execution_count": null,
   "metadata": {
    "ExecuteTime": {
     "end_time": "2019-11-17T00:46:04.104303Z",
     "start_time": "2019-11-17T00:45:37.246Z"
    },
    "hidden": true
   },
   "outputs": [],
   "source": [
    "print('Weekdays Only')\n",
    "reg = smf.ols(\" traffic ~ Italy*weekend\", ds.reset_index()).fit()\n",
    "print(\"R-squared: {0:1.2f}%, N: {1:1,.0f}\".format(reg.rsquared*100, reg.nobs))\n",
    "reg.summary().tables[1]"
   ]
  },
  {
   "cell_type": "code",
   "execution_count": null,
   "metadata": {
    "hidden": true
   },
   "outputs": [],
   "source": []
  },
  {
   "cell_type": "markdown",
   "metadata": {},
   "source": [
    "## Weather and Air Pollution"
   ]
  },
  {
   "cell_type": "code",
   "execution_count": 41,
   "metadata": {
    "ExecuteTime": {
     "end_time": "2019-11-17T01:11:08.088770Z",
     "start_time": "2019-11-17T01:11:08.015379Z"
    }
   },
   "outputs": [],
   "source": [
    "wea = pd.read_csv(\"../analysis/air-weather-info.csv\", parse_dates=['day'])\n",
    "wea = wea.set_index(['day', 'hour']).drop(['Ora', 'Data', 'Data e ora'],axis=1)\n",
    "wea.rename({'Prec. [mm]':'prec', 'Temp. [°C]':'temp'},axis=1, inplace=True)"
   ]
  },
  {
   "cell_type": "code",
   "execution_count": 42,
   "metadata": {
    "ExecuteTime": {
     "end_time": "2019-11-17T01:11:26.667088Z",
     "start_time": "2019-11-17T01:11:08.486657Z"
    }
   },
   "outputs": [],
   "source": [
    "tra = tra.reset_index()\n",
    "tra['hour'] = tra['hour'].astype(int)\n",
    "tra = tra.set_index(['date', 'hour'])\n",
    "tra[wea.columns] = wea\n",
    "tra = tra.reset_index().set_index(['fermata', 'weekend', 'date', 'hour'])\n",
    "ds = tra.copy()"
   ]
  },
  {
   "cell_type": "code",
   "execution_count": 43,
   "metadata": {
    "ExecuteTime": {
     "end_time": "2019-11-17T01:11:27.099672Z",
     "start_time": "2019-11-17T01:11:26.670399Z"
    }
   },
   "outputs": [
    {
     "name": "stdout",
     "output_type": "stream",
     "text": [
      "All days\n",
      "R-squared: 2.77%, N: 6,433\n"
     ]
    },
    {
     "data": {
      "text/html": [
       "<table class=\"simpletable\">\n",
       "<tr>\n",
       "      <td></td>         <th>coef</th>     <th>std err</th>      <th>t</th>      <th>P>|t|</th>  <th>[0.025</th>    <th>0.975]</th>  \n",
       "</tr>\n",
       "<tr>\n",
       "  <th>Intercept</th> <td>    0.4592</td> <td>    0.005</td> <td>  100.355</td> <td> 0.000</td> <td>    0.450</td> <td>    0.468</td>\n",
       "</tr>\n",
       "<tr>\n",
       "  <th>prec</th>      <td>   -0.0026</td> <td>    0.015</td> <td>   -0.177</td> <td> 0.859</td> <td>   -0.031</td> <td>    0.026</td>\n",
       "</tr>\n",
       "<tr>\n",
       "  <th>temp</th>      <td>    0.0037</td> <td>    0.000</td> <td>   13.516</td> <td> 0.000</td> <td>    0.003</td> <td>    0.004</td>\n",
       "</tr>\n",
       "</table>"
      ],
      "text/plain": [
       "<class 'statsmodels.iolib.table.SimpleTable'>"
      ]
     },
     "execution_count": 43,
     "metadata": {},
     "output_type": "execute_result"
    }
   ],
   "source": [
    "print('All days')\n",
    "reg = smf.ols(\" traffic ~ prec + temp\", ds.groupby(['date', 'hour']).mean()).fit()\n",
    "print(\"R-squared: {0:1.2f}%, N: {1:1,.0f}\".format(reg.rsquared*100, reg.nobs))\n",
    "reg.summary().tables[1]"
   ]
  },
  {
   "cell_type": "markdown",
   "metadata": {
    "ExecuteTime": {
     "end_time": "2019-11-16T22:30:10.556297Z",
     "start_time": "2019-11-16T22:30:10.417623Z"
    }
   },
   "source": [
    "## Hotel Guests"
   ]
  },
  {
   "cell_type": "code",
   "execution_count": 44,
   "metadata": {
    "ExecuteTime": {
     "end_time": "2019-11-17T01:11:34.191965Z",
     "start_time": "2019-11-17T01:11:31.901554Z"
    }
   },
   "outputs": [],
   "source": [
    "hot = pd.read_csv(\"../analysis/hotel_guests.csv\", parse_dates=['date']).set_index('date')\n",
    "tra = tra.reset_index().set_index(['date'])\n",
    "tra['hotel_guests'] = hot\n",
    "tra = tra.reset_index().set_index(['fermata', 'weekend', 'date', 'hour'])\n",
    "ds = tra.copy()"
   ]
  },
  {
   "cell_type": "code",
   "execution_count": 45,
   "metadata": {
    "ExecuteTime": {
     "end_time": "2019-11-17T01:11:34.519331Z",
     "start_time": "2019-11-17T01:11:34.195098Z"
    }
   },
   "outputs": [
    {
     "name": "stdout",
     "output_type": "stream",
     "text": [
      "All days\n",
      "R-squared: 1.88%, N: 318\n"
     ]
    },
    {
     "data": {
      "text/html": [
       "<table class=\"simpletable\">\n",
       "<tr>\n",
       "        <td></td>          <th>coef</th>     <th>std err</th>      <th>t</th>      <th>P>|t|</th>  <th>[0.025</th>    <th>0.975]</th>  \n",
       "</tr>\n",
       "<tr>\n",
       "  <th>Intercept</th>    <td>    0.5229</td> <td>    0.010</td> <td>   53.810</td> <td> 0.000</td> <td>    0.504</td> <td>    0.542</td>\n",
       "</tr>\n",
       "<tr>\n",
       "  <th>hotel_guests</th> <td> 5.911e-05</td> <td>  2.4e-05</td> <td>    2.458</td> <td> 0.015</td> <td> 1.18e-05</td> <td>    0.000</td>\n",
       "</tr>\n",
       "</table>"
      ],
      "text/plain": [
       "<class 'statsmodels.iolib.table.SimpleTable'>"
      ]
     },
     "execution_count": 45,
     "metadata": {},
     "output_type": "execute_result"
    }
   ],
   "source": [
    "print('All days')\n",
    "reg = smf.ols(\" traffic ~ hotel_guests\", ds.groupby(['date']).mean()).fit()\n",
    "print(\"R-squared: {0:1.2f}%, N: {1:1,.0f}\".format(reg.rsquared*100, reg.nobs))\n",
    "reg.summary().tables[1]"
   ]
  },
  {
   "cell_type": "markdown",
   "metadata": {},
   "source": [
    "## Parkings"
   ]
  },
  {
   "cell_type": "code",
   "execution_count": 46,
   "metadata": {
    "ExecuteTime": {
     "end_time": "2019-11-17T01:11:38.661397Z",
     "start_time": "2019-11-17T01:11:38.573136Z"
    }
   },
   "outputs": [],
   "source": [
    "par = pd.read_csv(\"../analysis/parking-info.csv\", parse_dates=['data']).drop(['Unnamed: 0'],axis=1)\n",
    "par = par.set_index(['data', 'hour'])"
   ]
  },
  {
   "cell_type": "code",
   "execution_count": 47,
   "metadata": {
    "ExecuteTime": {
     "end_time": "2019-11-17T01:11:49.442476Z",
     "start_time": "2019-11-17T01:11:39.109150Z"
    }
   },
   "outputs": [],
   "source": [
    "tra = tra.reset_index()\n",
    "tra = tra.set_index(['date', 'hour'])\n",
    "tra['parkings'] = par.groupby(['data', 'hour'])['OccupazionePerc'].mean()\n",
    "tra = tra.reset_index().set_index(['fermata', 'weekend', 'date', 'hour'])\n",
    "ds = tra.copy()"
   ]
  },
  {
   "cell_type": "code",
   "execution_count": 48,
   "metadata": {
    "ExecuteTime": {
     "end_time": "2019-11-17T01:11:50.328195Z",
     "start_time": "2019-11-17T01:11:49.446336Z"
    }
   },
   "outputs": [],
   "source": [
    "ds = ds[ds.index.get_level_values(2)>=pd.datetime(2019,1 ,1)]\n",
    "ds = ds[ds.index.get_level_values(2)<=pd.datetime(2019,10,1)].copy()\n",
    "ds = ds.dropna(subset=['parkings'])"
   ]
  },
  {
   "cell_type": "code",
   "execution_count": 49,
   "metadata": {
    "ExecuteTime": {
     "end_time": "2019-11-17T01:11:50.453948Z",
     "start_time": "2019-11-17T01:11:50.331011Z"
    }
   },
   "outputs": [
    {
     "name": "stdout",
     "output_type": "stream",
     "text": [
      "All days\n",
      "R-squared: 19.88%, N: 1,971\n"
     ]
    },
    {
     "data": {
      "text/html": [
       "<table class=\"simpletable\">\n",
       "<tr>\n",
       "      <td></td>         <th>coef</th>     <th>std err</th>      <th>t</th>      <th>P>|t|</th>  <th>[0.025</th>    <th>0.975]</th>  \n",
       "</tr>\n",
       "<tr>\n",
       "  <th>Intercept</th> <td>    0.3719</td> <td>    0.008</td> <td>   49.076</td> <td> 0.000</td> <td>    0.357</td> <td>    0.387</td>\n",
       "</tr>\n",
       "<tr>\n",
       "  <th>parkings</th>  <td>    0.0040</td> <td>    0.000</td> <td>   22.105</td> <td> 0.000</td> <td>    0.004</td> <td>    0.004</td>\n",
       "</tr>\n",
       "</table>"
      ],
      "text/plain": [
       "<class 'statsmodels.iolib.table.SimpleTable'>"
      ]
     },
     "execution_count": 49,
     "metadata": {},
     "output_type": "execute_result"
    }
   ],
   "source": [
    "print('All days')\n",
    "reg = smf.ols(\" traffic ~ parkings\", ds.groupby(['date','hour']).mean()).fit()\n",
    "print(\"R-squared: {0:1.2f}%, N: {1:1,.0f}\".format(reg.rsquared*100, reg.nobs))\n",
    "reg.summary().tables[1]"
   ]
  },
  {
   "cell_type": "markdown",
   "metadata": {},
   "source": [
    "## All Together"
   ]
  },
  {
   "cell_type": "code",
   "execution_count": 67,
   "metadata": {
    "ExecuteTime": {
     "end_time": "2019-11-17T01:19:06.837972Z",
     "start_time": "2019-11-17T01:19:06.590366Z"
    }
   },
   "outputs": [
    {
     "name": "stdout",
     "output_type": "stream",
     "text": [
      "All days\n",
      "R-squared: 4.09%, N: 827\n"
     ]
    },
    {
     "data": {
      "text/html": [
       "<table class=\"simpletable\">\n",
       "<tr>\n",
       "        <td></td>          <th>coef</th>     <th>std err</th>      <th>t</th>      <th>P>|t|</th>  <th>[0.025</th>    <th>0.975]</th>  \n",
       "</tr>\n",
       "<tr>\n",
       "  <th>Intercept</th>    <td>   -0.4708</td> <td>    0.251</td> <td>   -1.877</td> <td> 0.061</td> <td>   -0.963</td> <td>    0.022</td>\n",
       "</tr>\n",
       "<tr>\n",
       "  <th>Italy</th>        <td>    0.0030</td> <td>    0.004</td> <td>    0.777</td> <td> 0.438</td> <td>   -0.005</td> <td>    0.011</td>\n",
       "</tr>\n",
       "<tr>\n",
       "  <th>Switzerland</th>  <td>    0.0109</td> <td>    0.003</td> <td>    3.472</td> <td> 0.001</td> <td>    0.005</td> <td>    0.017</td>\n",
       "</tr>\n",
       "<tr>\n",
       "  <th>prec</th>         <td>   -0.0066</td> <td>    0.024</td> <td>   -0.275</td> <td> 0.784</td> <td>   -0.054</td> <td>    0.041</td>\n",
       "</tr>\n",
       "<tr>\n",
       "  <th>temp</th>         <td>    0.0049</td> <td>    0.001</td> <td>    5.332</td> <td> 0.000</td> <td>    0.003</td> <td>    0.007</td>\n",
       "</tr>\n",
       "<tr>\n",
       "  <th>hotel_guests</th> <td> 3.059e-06</td> <td> 5.04e-05</td> <td>    0.061</td> <td> 0.952</td> <td>-9.59e-05</td> <td>    0.000</td>\n",
       "</tr>\n",
       "</table>"
      ],
      "text/plain": [
       "<class 'statsmodels.iolib.table.SimpleTable'>"
      ]
     },
     "execution_count": 67,
     "metadata": {},
     "output_type": "execute_result"
    }
   ],
   "source": [
    "var = [\n",
    "    'Italy', 'Switzerland', #'Germany', 'Netherlands',\n",
    "    'prec','temp',\n",
    "    'hotel_guests',\n",
    "    'parkings',\n",
    "]\n",
    "\n",
    "ds = tra.dropna(subset=var).groupby(['date', 'hour']).mean()\n",
    "\n",
    "print('All days')\n",
    "reg = smf.ols(\" traffic ~ {0}\".format(\" + \".join(var)), ds).fit()\n",
    "print(\"R-squared: {0:1.2f}%, N: {1:1,.0f}\".format(reg.rsquared*100, reg.nobs))\n",
    "reg.summary().tables[1]"
   ]
  },
  {
   "cell_type": "markdown",
   "metadata": {},
   "source": [
    "## Coordinates"
   ]
  },
  {
   "cell_type": "code",
   "execution_count": 38,
   "metadata": {
    "ExecuteTime": {
     "end_time": "2019-11-17T00:50:56.201030Z",
     "start_time": "2019-11-17T00:50:51.773123Z"
    }
   },
   "outputs": [],
   "source": [
    "bus = pd.read_parquet(\"../data/tpl/lines_events/bus_lugano.parquet\")\n",
    "bus = bus.groupby(['fermata'])[['posizione']].first()"
   ]
  },
  {
   "cell_type": "code",
   "execution_count": 42,
   "metadata": {
    "ExecuteTime": {
     "end_time": "2019-11-17T00:51:26.085422Z",
     "start_time": "2019-11-17T00:51:25.860785Z"
    }
   },
   "outputs": [],
   "source": [
    "import geopandas as gpd\n",
    "data = gpd.read_file(\"/Users/abramo/Repos/USI-Hackathon-2019/data/data/tpl/gis/stops/tpl_stops.shp\")\n",
    "\n",
    "data = data.to_crs(epsg=4326)[['fermata', 'geometry']]\n",
    "data['lat'] = data['geometry'].astype(str).str[ 7:21].astype(float)\n",
    "data['lon'] = data['geometry'].astype(str).str[25:39].astype(float)\n",
    "\n",
    "data = data.set_index('fermata')"
   ]
  },
  {
   "cell_type": "code",
   "execution_count": 39,
   "metadata": {
    "ExecuteTime": {
     "end_time": "2019-11-17T00:50:57.124387Z",
     "start_time": "2019-11-17T00:50:57.115628Z"
    }
   },
   "outputs": [],
   "source": [
    "bus['posizione'] = bus['posizione'].astype(str).str[:4]\n",
    "bus['posizione'] = bus['posizione'].astype(int)"
   ]
  },
  {
   "cell_type": "code",
   "execution_count": 45,
   "metadata": {
    "ExecuteTime": {
     "end_time": "2019-11-17T00:53:50.552960Z",
     "start_time": "2019-11-17T00:53:50.527617Z"
    }
   },
   "outputs": [
    {
     "data": {
      "text/html": [
       "<div>\n",
       "<style scoped>\n",
       "    .dataframe tbody tr th:only-of-type {\n",
       "        vertical-align: middle;\n",
       "    }\n",
       "\n",
       "    .dataframe tbody tr th {\n",
       "        vertical-align: top;\n",
       "    }\n",
       "\n",
       "    .dataframe thead th {\n",
       "        text-align: right;\n",
       "    }\n",
       "</style>\n",
       "<table border=\"1\" class=\"dataframe\">\n",
       "  <thead>\n",
       "    <tr style=\"text-align: right;\">\n",
       "      <th></th>\n",
       "      <th>posizione</th>\n",
       "      <th>lat</th>\n",
       "      <th>lon</th>\n",
       "    </tr>\n",
       "    <tr>\n",
       "      <th>fermata</th>\n",
       "      <th></th>\n",
       "      <th></th>\n",
       "      <th></th>\n",
       "    </tr>\n",
       "  </thead>\n",
       "  <tbody>\n",
       "    <tr>\n",
       "      <th>Albonago  Gradinata  Mast 2</th>\n",
       "      <td>4259</td>\n",
       "      <td>8.972289</td>\n",
       "      <td>6.008947</td>\n",
       "    </tr>\n",
       "    <tr>\n",
       "      <th>Albonago  Sentiero Castagni  Mast 2</th>\n",
       "      <td>4254</td>\n",
       "      <td>8.974724</td>\n",
       "      <td>46.013021</td>\n",
       "    </tr>\n",
       "    <tr>\n",
       "      <th>Albonago  Sentiero Cavan  Mast 2</th>\n",
       "      <td>4261</td>\n",
       "      <td>8.972123</td>\n",
       "      <td>46.012913</td>\n",
       "    </tr>\n",
       "    <tr>\n",
       "      <th>Albonago  Via Ruscello  Mast 2</th>\n",
       "      <td>4260</td>\n",
       "      <td>8.971481</td>\n",
       "      <td>46.011017</td>\n",
       "    </tr>\n",
       "    <tr>\n",
       "      <th>Albonago  ai Ronchi  Mast 2</th>\n",
       "      <td>4252</td>\n",
       "      <td>8.973236</td>\n",
       "      <td>46.014810</td>\n",
       "    </tr>\n",
       "  </tbody>\n",
       "</table>\n",
       "</div>"
      ],
      "text/plain": [
       "                                     posizione       lat        lon\n",
       "fermata                                                            \n",
       "Albonago  Gradinata  Mast 2               4259  8.972289   6.008947\n",
       "Albonago  Sentiero Castagni  Mast 2       4254  8.974724  46.013021\n",
       "Albonago  Sentiero Cavan  Mast 2          4261  8.972123  46.012913\n",
       "Albonago  Via Ruscello  Mast 2            4260  8.971481  46.011017\n",
       "Albonago  ai Ronchi  Mast 2               4252  8.973236  46.014810"
      ]
     },
     "execution_count": 45,
     "metadata": {},
     "output_type": "execute_result"
    }
   ],
   "source": [
    "bus = bus.reset_index().set_index('posizione')\n",
    "bus['lat'] = data['lat']\n",
    "bus['lon'] = data['lon']\n",
    "bus = bus.reset_index().set_index('fermata')\n",
    "bus.head()"
   ]
  },
  {
   "cell_type": "code",
   "execution_count": 46,
   "metadata": {
    "ExecuteTime": {
     "end_time": "2019-11-17T00:54:17.664220Z",
     "start_time": "2019-11-17T00:54:15.506814Z"
    }
   },
   "outputs": [],
   "source": [
    "tra = tra.reset_index().set_index(['fermata'])\n",
    "tra['lat'] = bus['lat']\n",
    "tra['lon'] = bus['lon']\n",
    "tra = tra.reset_index().set_index(['fermata', 'weekend', 'date', 'hour'])"
   ]
  },
  {
   "cell_type": "markdown",
   "metadata": {
    "ExecuteTime": {
     "end_time": "2019-11-16T23:21:27.969359Z",
     "start_time": "2019-11-16T23:21:27.914177Z"
    }
   },
   "source": [
    "## Save"
   ]
  },
  {
   "cell_type": "code",
   "execution_count": 48,
   "metadata": {
    "ExecuteTime": {
     "end_time": "2019-11-17T00:55:24.912339Z",
     "start_time": "2019-11-17T00:54:48.169309Z"
    }
   },
   "outputs": [],
   "source": [
    "tra.to_csv(\"Traffic_Index.csv\")"
   ]
  },
  {
   "cell_type": "code",
   "execution_count": 65,
   "metadata": {
    "ExecuteTime": {
     "end_time": "2019-11-17T01:18:01.382175Z",
     "start_time": "2019-11-17T01:18:01.369770Z"
    }
   },
   "outputs": [
    {
     "data": {
      "text/plain": [
       "DatetimeIndex(['2019-05-27', '2019-05-28', '2019-05-29', '2019-05-30',\n",
       "               '2019-05-31', '2019-06-01', '2019-06-02', '2019-06-03',\n",
       "               '2019-06-04', '2019-06-05', '2019-06-06', '2019-06-07',\n",
       "               '2019-06-08', '2019-06-09', '2019-06-13', '2019-06-14',\n",
       "               '2019-06-15', '2019-06-16', '2019-06-17', '2019-06-18',\n",
       "               '2019-06-19', '2019-06-20', '2019-06-21', '2019-06-22',\n",
       "               '2019-06-23', '2019-06-24', '2019-06-25', '2019-06-26',\n",
       "               '2019-06-27', '2019-06-28', '2019-06-29', '2019-06-30',\n",
       "               '2019-07-01', '2019-07-02', '2019-07-03', '2019-07-04',\n",
       "               '2019-07-05', '2019-07-06', '2019-07-07', '2019-07-08',\n",
       "               '2019-07-09', '2019-07-13', '2019-07-14'],\n",
       "              dtype='datetime64[ns]', name='date', freq=None)"
      ]
     },
     "execution_count": 65,
     "metadata": {},
     "output_type": "execute_result"
    }
   ],
   "source": [
    "ds.index.get_level_values(0).unique()"
   ]
  },
  {
   "cell_type": "code",
   "execution_count": 73,
   "metadata": {
    "ExecuteTime": {
     "end_time": "2019-11-17T08:56:27.067175Z",
     "start_time": "2019-11-17T08:56:22.009150Z"
    }
   },
   "outputs": [
    {
     "data": {
      "text/plain": [
       "Index(['fermata', 'weekend', 'date', 'hour', 'dur', 'dur_p', 'benchmark',\n",
       "       'benchmark_p', 'traffic', 'traffic_p', 'sensi', 'high', 'Germany',\n",
       "       'Italy', 'Netherlands', 'Switzerland', 'Date', 'Total', 'Train', 'Road',\n",
       "       'Highway', 'Commute', 'Non-commute', 'lat', 'lon'],\n",
       "      dtype='object')"
      ]
     },
     "execution_count": 73,
     "metadata": {},
     "output_type": "execute_result"
    }
   ],
   "source": [
    "tra = pd.read_csv(\"/Users/abramo/Repos/USI-Hackathon-2019/Traffic Index/Traffic_Index.csv.zip\")\n",
    "tra.columns"
   ]
  },
  {
   "cell_type": "code",
   "execution_count": 79,
   "metadata": {
    "ExecuteTime": {
     "end_time": "2019-11-17T10:15:38.366225Z",
     "start_time": "2019-11-17T10:15:21.420471Z"
    }
   },
   "outputs": [],
   "source": [
    "tra[['date','hour', 'lon', 'lat', 'traffic', 'weekend']].to_csv(\"lon_lat.csv\")"
   ]
  },
  {
   "cell_type": "code",
   "execution_count": 78,
   "metadata": {
    "ExecuteTime": {
     "end_time": "2019-11-17T09:20:53.878085Z",
     "start_time": "2019-11-17T09:20:53.283276Z"
    }
   },
   "outputs": [
    {
     "data": {
      "text/html": [
       "<div>\n",
       "<style scoped>\n",
       "    .dataframe tbody tr th:only-of-type {\n",
       "        vertical-align: middle;\n",
       "    }\n",
       "\n",
       "    .dataframe tbody tr th {\n",
       "        vertical-align: top;\n",
       "    }\n",
       "\n",
       "    .dataframe thead th {\n",
       "        text-align: right;\n",
       "    }\n",
       "</style>\n",
       "<table border=\"1\" class=\"dataframe\">\n",
       "  <thead>\n",
       "    <tr style=\"text-align: right;\">\n",
       "      <th></th>\n",
       "      <th>fermata</th>\n",
       "      <th>weekend</th>\n",
       "      <th>date</th>\n",
       "      <th>hour</th>\n",
       "      <th>dur</th>\n",
       "      <th>dur_p</th>\n",
       "      <th>benchmark</th>\n",
       "      <th>benchmark_p</th>\n",
       "      <th>traffic</th>\n",
       "      <th>traffic_p</th>\n",
       "      <th>...</th>\n",
       "      <th>Switzerland</th>\n",
       "      <th>Date</th>\n",
       "      <th>Total</th>\n",
       "      <th>Train</th>\n",
       "      <th>Road</th>\n",
       "      <th>Highway</th>\n",
       "      <th>Commute</th>\n",
       "      <th>Non-commute</th>\n",
       "      <th>lat</th>\n",
       "      <th>lon</th>\n",
       "    </tr>\n",
       "  </thead>\n",
       "  <tbody>\n",
       "    <tr>\n",
       "      <th>0</th>\n",
       "      <td>Cassarate- Lanchetta- Mast 2</td>\n",
       "      <td>0</td>\n",
       "      <td>2018-01-11</td>\n",
       "      <td>6</td>\n",
       "      <td>1.011111</td>\n",
       "      <td>1.833333</td>\n",
       "      <td>1.020833</td>\n",
       "      <td>1.5</td>\n",
       "      <td>0.000000</td>\n",
       "      <td>0.222222</td>\n",
       "      <td>...</td>\n",
       "      <td>NaN</td>\n",
       "      <td>NaN</td>\n",
       "      <td>NaN</td>\n",
       "      <td>NaN</td>\n",
       "      <td>NaN</td>\n",
       "      <td>NaN</td>\n",
       "      <td>NaN</td>\n",
       "      <td>NaN</td>\n",
       "      <td>8.965803</td>\n",
       "      <td>46.006026</td>\n",
       "    </tr>\n",
       "    <tr>\n",
       "      <th>1</th>\n",
       "      <td>Cassarate- Lanchetta- Mast 2</td>\n",
       "      <td>0</td>\n",
       "      <td>2018-01-11</td>\n",
       "      <td>7</td>\n",
       "      <td>1.355556</td>\n",
       "      <td>1.666667</td>\n",
       "      <td>1.020833</td>\n",
       "      <td>1.5</td>\n",
       "      <td>0.327891</td>\n",
       "      <td>0.111111</td>\n",
       "      <td>...</td>\n",
       "      <td>NaN</td>\n",
       "      <td>NaN</td>\n",
       "      <td>NaN</td>\n",
       "      <td>NaN</td>\n",
       "      <td>NaN</td>\n",
       "      <td>NaN</td>\n",
       "      <td>NaN</td>\n",
       "      <td>NaN</td>\n",
       "      <td>8.965803</td>\n",
       "      <td>46.006026</td>\n",
       "    </tr>\n",
       "    <tr>\n",
       "      <th>2</th>\n",
       "      <td>Cassarate- Lanchetta- Mast 2</td>\n",
       "      <td>0</td>\n",
       "      <td>2018-01-11</td>\n",
       "      <td>8</td>\n",
       "      <td>1.116667</td>\n",
       "      <td>1.666667</td>\n",
       "      <td>1.020833</td>\n",
       "      <td>1.5</td>\n",
       "      <td>0.093878</td>\n",
       "      <td>0.111111</td>\n",
       "      <td>...</td>\n",
       "      <td>NaN</td>\n",
       "      <td>NaN</td>\n",
       "      <td>NaN</td>\n",
       "      <td>NaN</td>\n",
       "      <td>NaN</td>\n",
       "      <td>NaN</td>\n",
       "      <td>NaN</td>\n",
       "      <td>NaN</td>\n",
       "      <td>8.965803</td>\n",
       "      <td>46.006026</td>\n",
       "    </tr>\n",
       "    <tr>\n",
       "      <th>3</th>\n",
       "      <td>Cassarate- Lanchetta- Mast 2</td>\n",
       "      <td>0</td>\n",
       "      <td>2018-01-11</td>\n",
       "      <td>9</td>\n",
       "      <td>1.350000</td>\n",
       "      <td>1.666667</td>\n",
       "      <td>1.020833</td>\n",
       "      <td>1.5</td>\n",
       "      <td>0.322449</td>\n",
       "      <td>0.111111</td>\n",
       "      <td>...</td>\n",
       "      <td>NaN</td>\n",
       "      <td>NaN</td>\n",
       "      <td>NaN</td>\n",
       "      <td>NaN</td>\n",
       "      <td>NaN</td>\n",
       "      <td>NaN</td>\n",
       "      <td>NaN</td>\n",
       "      <td>NaN</td>\n",
       "      <td>8.965803</td>\n",
       "      <td>46.006026</td>\n",
       "    </tr>\n",
       "    <tr>\n",
       "      <th>4</th>\n",
       "      <td>Cassarate- Lanchetta- Mast 2</td>\n",
       "      <td>0</td>\n",
       "      <td>2018-01-11</td>\n",
       "      <td>10</td>\n",
       "      <td>1.272222</td>\n",
       "      <td>1.666667</td>\n",
       "      <td>1.020833</td>\n",
       "      <td>1.5</td>\n",
       "      <td>0.246259</td>\n",
       "      <td>0.111111</td>\n",
       "      <td>...</td>\n",
       "      <td>NaN</td>\n",
       "      <td>NaN</td>\n",
       "      <td>NaN</td>\n",
       "      <td>NaN</td>\n",
       "      <td>NaN</td>\n",
       "      <td>NaN</td>\n",
       "      <td>NaN</td>\n",
       "      <td>NaN</td>\n",
       "      <td>8.965803</td>\n",
       "      <td>46.006026</td>\n",
       "    </tr>\n",
       "    <tr>\n",
       "      <th>...</th>\n",
       "      <td>...</td>\n",
       "      <td>...</td>\n",
       "      <td>...</td>\n",
       "      <td>...</td>\n",
       "      <td>...</td>\n",
       "      <td>...</td>\n",
       "      <td>...</td>\n",
       "      <td>...</td>\n",
       "      <td>...</td>\n",
       "      <td>...</td>\n",
       "      <td>...</td>\n",
       "      <td>...</td>\n",
       "      <td>...</td>\n",
       "      <td>...</td>\n",
       "      <td>...</td>\n",
       "      <td>...</td>\n",
       "      <td>...</td>\n",
       "      <td>...</td>\n",
       "      <td>...</td>\n",
       "      <td>...</td>\n",
       "      <td>...</td>\n",
       "    </tr>\n",
       "    <tr>\n",
       "      <th>1438718</th>\n",
       "      <td>Pazzallo- Senago- Mast 2</td>\n",
       "      <td>1</td>\n",
       "      <td>2019-12-08</td>\n",
       "      <td>11</td>\n",
       "      <td>0.633333</td>\n",
       "      <td>0.500000</td>\n",
       "      <td>0.516667</td>\n",
       "      <td>0.5</td>\n",
       "      <td>0.225806</td>\n",
       "      <td>0.000000</td>\n",
       "      <td>...</td>\n",
       "      <td>NaN</td>\n",
       "      <td>NaN</td>\n",
       "      <td>NaN</td>\n",
       "      <td>NaN</td>\n",
       "      <td>NaN</td>\n",
       "      <td>NaN</td>\n",
       "      <td>NaN</td>\n",
       "      <td>NaN</td>\n",
       "      <td>8.936380</td>\n",
       "      <td>45.983309</td>\n",
       "    </tr>\n",
       "    <tr>\n",
       "      <th>1438719</th>\n",
       "      <td>Pazzallo- Senago- Mast 2</td>\n",
       "      <td>1</td>\n",
       "      <td>2019-12-08</td>\n",
       "      <td>13</td>\n",
       "      <td>0.666667</td>\n",
       "      <td>0.500000</td>\n",
       "      <td>0.516667</td>\n",
       "      <td>0.5</td>\n",
       "      <td>0.290323</td>\n",
       "      <td>0.000000</td>\n",
       "      <td>...</td>\n",
       "      <td>NaN</td>\n",
       "      <td>NaN</td>\n",
       "      <td>NaN</td>\n",
       "      <td>NaN</td>\n",
       "      <td>NaN</td>\n",
       "      <td>NaN</td>\n",
       "      <td>NaN</td>\n",
       "      <td>NaN</td>\n",
       "      <td>8.936380</td>\n",
       "      <td>45.983309</td>\n",
       "    </tr>\n",
       "    <tr>\n",
       "      <th>1438720</th>\n",
       "      <td>Pazzallo- Senago- Mast 2</td>\n",
       "      <td>1</td>\n",
       "      <td>2019-12-08</td>\n",
       "      <td>16</td>\n",
       "      <td>0.583333</td>\n",
       "      <td>0.500000</td>\n",
       "      <td>0.516667</td>\n",
       "      <td>0.5</td>\n",
       "      <td>0.129032</td>\n",
       "      <td>0.000000</td>\n",
       "      <td>...</td>\n",
       "      <td>NaN</td>\n",
       "      <td>NaN</td>\n",
       "      <td>NaN</td>\n",
       "      <td>NaN</td>\n",
       "      <td>NaN</td>\n",
       "      <td>NaN</td>\n",
       "      <td>NaN</td>\n",
       "      <td>NaN</td>\n",
       "      <td>8.936380</td>\n",
       "      <td>45.983309</td>\n",
       "    </tr>\n",
       "    <tr>\n",
       "      <th>1438721</th>\n",
       "      <td>Pazzallo- Senago- Mast 2</td>\n",
       "      <td>1</td>\n",
       "      <td>2019-12-08</td>\n",
       "      <td>17</td>\n",
       "      <td>0.533333</td>\n",
       "      <td>0.500000</td>\n",
       "      <td>0.516667</td>\n",
       "      <td>0.5</td>\n",
       "      <td>0.032258</td>\n",
       "      <td>0.000000</td>\n",
       "      <td>...</td>\n",
       "      <td>NaN</td>\n",
       "      <td>NaN</td>\n",
       "      <td>NaN</td>\n",
       "      <td>NaN</td>\n",
       "      <td>NaN</td>\n",
       "      <td>NaN</td>\n",
       "      <td>NaN</td>\n",
       "      <td>NaN</td>\n",
       "      <td>8.936380</td>\n",
       "      <td>45.983309</td>\n",
       "    </tr>\n",
       "    <tr>\n",
       "      <th>1438722</th>\n",
       "      <td>Pazzallo- Senago- Mast 2</td>\n",
       "      <td>1</td>\n",
       "      <td>2019-12-08</td>\n",
       "      <td>18</td>\n",
       "      <td>0.533333</td>\n",
       "      <td>0.500000</td>\n",
       "      <td>0.516667</td>\n",
       "      <td>0.5</td>\n",
       "      <td>0.032258</td>\n",
       "      <td>0.000000</td>\n",
       "      <td>...</td>\n",
       "      <td>NaN</td>\n",
       "      <td>NaN</td>\n",
       "      <td>NaN</td>\n",
       "      <td>NaN</td>\n",
       "      <td>NaN</td>\n",
       "      <td>NaN</td>\n",
       "      <td>NaN</td>\n",
       "      <td>NaN</td>\n",
       "      <td>8.936380</td>\n",
       "      <td>45.983309</td>\n",
       "    </tr>\n",
       "  </tbody>\n",
       "</table>\n",
       "<p>1438723 rows × 25 columns</p>\n",
       "</div>"
      ],
      "text/plain": [
       "                              fermata  weekend        date  hour       dur  \\\n",
       "0        Cassarate- Lanchetta- Mast 2        0  2018-01-11     6  1.011111   \n",
       "1        Cassarate- Lanchetta- Mast 2        0  2018-01-11     7  1.355556   \n",
       "2        Cassarate- Lanchetta- Mast 2        0  2018-01-11     8  1.116667   \n",
       "3        Cassarate- Lanchetta- Mast 2        0  2018-01-11     9  1.350000   \n",
       "4        Cassarate- Lanchetta- Mast 2        0  2018-01-11    10  1.272222   \n",
       "...                               ...      ...         ...   ...       ...   \n",
       "1438718      Pazzallo- Senago- Mast 2        1  2019-12-08    11  0.633333   \n",
       "1438719      Pazzallo- Senago- Mast 2        1  2019-12-08    13  0.666667   \n",
       "1438720      Pazzallo- Senago- Mast 2        1  2019-12-08    16  0.583333   \n",
       "1438721      Pazzallo- Senago- Mast 2        1  2019-12-08    17  0.533333   \n",
       "1438722      Pazzallo- Senago- Mast 2        1  2019-12-08    18  0.533333   \n",
       "\n",
       "            dur_p  benchmark  benchmark_p   traffic  traffic_p  ...  \\\n",
       "0        1.833333   1.020833          1.5  0.000000   0.222222  ...   \n",
       "1        1.666667   1.020833          1.5  0.327891   0.111111  ...   \n",
       "2        1.666667   1.020833          1.5  0.093878   0.111111  ...   \n",
       "3        1.666667   1.020833          1.5  0.322449   0.111111  ...   \n",
       "4        1.666667   1.020833          1.5  0.246259   0.111111  ...   \n",
       "...           ...        ...          ...       ...        ...  ...   \n",
       "1438718  0.500000   0.516667          0.5  0.225806   0.000000  ...   \n",
       "1438719  0.500000   0.516667          0.5  0.290323   0.000000  ...   \n",
       "1438720  0.500000   0.516667          0.5  0.129032   0.000000  ...   \n",
       "1438721  0.500000   0.516667          0.5  0.032258   0.000000  ...   \n",
       "1438722  0.500000   0.516667          0.5  0.032258   0.000000  ...   \n",
       "\n",
       "         Switzerland  Date  Total  Train  Road  Highway  Commute  Non-commute  \\\n",
       "0                NaN   NaN    NaN    NaN   NaN      NaN      NaN          NaN   \n",
       "1                NaN   NaN    NaN    NaN   NaN      NaN      NaN          NaN   \n",
       "2                NaN   NaN    NaN    NaN   NaN      NaN      NaN          NaN   \n",
       "3                NaN   NaN    NaN    NaN   NaN      NaN      NaN          NaN   \n",
       "4                NaN   NaN    NaN    NaN   NaN      NaN      NaN          NaN   \n",
       "...              ...   ...    ...    ...   ...      ...      ...          ...   \n",
       "1438718          NaN   NaN    NaN    NaN   NaN      NaN      NaN          NaN   \n",
       "1438719          NaN   NaN    NaN    NaN   NaN      NaN      NaN          NaN   \n",
       "1438720          NaN   NaN    NaN    NaN   NaN      NaN      NaN          NaN   \n",
       "1438721          NaN   NaN    NaN    NaN   NaN      NaN      NaN          NaN   \n",
       "1438722          NaN   NaN    NaN    NaN   NaN      NaN      NaN          NaN   \n",
       "\n",
       "              lat        lon  \n",
       "0        8.965803  46.006026  \n",
       "1        8.965803  46.006026  \n",
       "2        8.965803  46.006026  \n",
       "3        8.965803  46.006026  \n",
       "4        8.965803  46.006026  \n",
       "...           ...        ...  \n",
       "1438718  8.936380  45.983309  \n",
       "1438719  8.936380  45.983309  \n",
       "1438720  8.936380  45.983309  \n",
       "1438721  8.936380  45.983309  \n",
       "1438722  8.936380  45.983309  \n",
       "\n",
       "[1438723 rows x 25 columns]"
      ]
     },
     "execution_count": 78,
     "metadata": {},
     "output_type": "execute_result"
    }
   ],
   "source": [
    "tra"
   ]
  },
  {
   "cell_type": "code",
   "execution_count": null,
   "metadata": {},
   "outputs": [],
   "source": []
  }
 ],
 "metadata": {
  "kernelspec": {
   "display_name": "Python 3",
   "language": "python",
   "name": "python3"
  },
  "language_info": {
   "codemirror_mode": {
    "name": "ipython",
    "version": 3
   },
   "file_extension": ".py",
   "mimetype": "text/x-python",
   "name": "python",
   "nbconvert_exporter": "python",
   "pygments_lexer": "ipython3",
   "version": "3.6.7"
  },
  "toc": {
   "colors": {
    "hover_highlight": "#DAA520",
    "navigate_num": "#000000",
    "navigate_text": "#333333",
    "running_highlight": "#FF0000",
    "selected_highlight": "#FFD700",
    "sidebar_border": "#EEEEEE",
    "wrapper_background": "#FFFFFF"
   },
   "moveMenuLeft": true,
   "nav_menu": {
    "height": "175.625px",
    "width": "251.989px"
   },
   "navigate_menu": true,
   "number_sections": true,
   "sideBar": true,
   "threshold": 4,
   "toc_cell": false,
   "toc_section_display": "block",
   "toc_window_display": false,
   "widenNotebook": false
  }
 },
 "nbformat": 4,
 "nbformat_minor": 2
}
