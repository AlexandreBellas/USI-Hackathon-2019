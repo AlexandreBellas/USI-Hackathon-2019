{
 "cells": [
  {
   "cell_type": "code",
   "execution_count": 1,
   "metadata": {
    "ExecuteTime": {
     "end_time": "2019-11-16T22:09:07.320642Z",
     "start_time": "2019-11-16T22:09:06.277624Z"
    }
   },
   "outputs": [
    {
     "name": "stdout",
     "output_type": "stream",
     "text": [
      "Populating the interactive namespace from numpy and matplotlib\n"
     ]
    }
   ],
   "source": [
    "import os; import pandas as pd; import numpy  as np\n",
    "from pandas.tseries.offsets import *\n",
    "import statsmodels.formula.api as smf\n",
    "%pylab inline\n",
    "%config InlineBackend.figure_format = 'retina'"
   ]
  },
  {
   "cell_type": "code",
   "execution_count": 3,
   "metadata": {
    "ExecuteTime": {
     "end_time": "2019-11-16T22:09:41.610940Z",
     "start_time": "2019-11-16T22:09:40.971490Z"
    }
   },
   "outputs": [],
   "source": [
    "path = \"../data/tpl/lines_events/\"\n",
    "tra  = pd.read_parquet(path+\"traffic.parquet\")"
   ]
  },
  {
   "cell_type": "markdown",
   "metadata": {},
   "source": [
    "## Nationalities of Visiting People"
   ]
  },
  {
   "cell_type": "code",
   "execution_count": 6,
   "metadata": {
    "ExecuteTime": {
     "end_time": "2019-11-16T22:10:47.783890Z",
     "start_time": "2019-11-16T22:10:47.773277Z"
    }
   },
   "outputs": [],
   "source": [
    "nat = pd.read_csv(\"../analysis/nationalities_incoming.csv\", parse_dates=['Date']).set_index('Date')"
   ]
  },
  {
   "cell_type": "code",
   "execution_count": 8,
   "metadata": {
    "ExecuteTime": {
     "end_time": "2019-11-16T22:11:35.828264Z",
     "start_time": "2019-11-16T22:11:34.832950Z"
    }
   },
   "outputs": [],
   "source": [
    "tra = tra.reset_index().set_index('date')\n",
    "tra[nat.columns] = nat\n",
    "tra = tra.reset_index().set_index(['fermata', 'weekend', 'date', 'hour'])"
   ]
  },
  {
   "cell_type": "code",
   "execution_count": 13,
   "metadata": {
    "ExecuteTime": {
     "end_time": "2019-11-16T22:12:42.664900Z",
     "start_time": "2019-11-16T22:12:42.349559Z"
    }
   },
   "outputs": [],
   "source": [
    "ds = tra.dropna().copy()"
   ]
  },
  {
   "cell_type": "code",
   "execution_count": 21,
   "metadata": {
    "ExecuteTime": {
     "end_time": "2019-11-16T22:15:38.599282Z",
     "start_time": "2019-11-16T22:15:38.421201Z"
    }
   },
   "outputs": [
    {
     "name": "stdout",
     "output_type": "stream",
     "text": [
      "All days\n",
      "R-squared: 0.23%, N: 176,971\n"
     ]
    },
    {
     "data": {
      "text/html": [
       "<table class=\"simpletable\">\n",
       "<tr>\n",
       "       <td></td>          <th>coef</th>     <th>std err</th>      <th>t</th>      <th>P>|t|</th>  <th>[0.025</th>    <th>0.975]</th>  \n",
       "</tr>\n",
       "<tr>\n",
       "  <th>Intercept</th>   <td>   -4.6343</td> <td>    0.343</td> <td>  -13.517</td> <td> 0.000</td> <td>   -5.306</td> <td>   -3.962</td>\n",
       "</tr>\n",
       "<tr>\n",
       "  <th>Italy</th>       <td>    0.0623</td> <td>    0.004</td> <td>   16.026</td> <td> 0.000</td> <td>    0.055</td> <td>    0.070</td>\n",
       "</tr>\n",
       "<tr>\n",
       "  <th>Switzerland</th> <td>    0.0498</td> <td>    0.003</td> <td>   15.235</td> <td> 0.000</td> <td>    0.043</td> <td>    0.056</td>\n",
       "</tr>\n",
       "<tr>\n",
       "  <th>Germany</th>     <td>    0.0522</td> <td>    0.004</td> <td>   13.821</td> <td> 0.000</td> <td>    0.045</td> <td>    0.060</td>\n",
       "</tr>\n",
       "<tr>\n",
       "  <th>Netherlands</th> <td>    0.1181</td> <td>    0.011</td> <td>   11.178</td> <td> 0.000</td> <td>    0.097</td> <td>    0.139</td>\n",
       "</tr>\n",
       "</table>"
      ],
      "text/plain": [
       "<class 'statsmodels.iolib.table.SimpleTable'>"
      ]
     },
     "execution_count": 21,
     "metadata": {},
     "output_type": "execute_result"
    }
   ],
   "source": [
    "print('All days')\n",
    "reg = smf.ols(\" traffic ~ Italy + Switzerland + Germany + Netherlands\", ds).fit()\n",
    "print(\"R-squared: {0:1.2f}%, N: {1:1,.0f}\".format(reg.rsquared*100, reg.nobs))\n",
    "reg.summary().tables[1]"
   ]
  },
  {
   "cell_type": "code",
   "execution_count": 23,
   "metadata": {
    "ExecuteTime": {
     "end_time": "2019-11-16T22:15:53.220459Z",
     "start_time": "2019-11-16T22:15:53.035173Z"
    }
   },
   "outputs": [
    {
     "name": "stdout",
     "output_type": "stream",
     "text": [
      "Weekdays Only\n",
      "R-squared: 0.28%, N: 123,370\n"
     ]
    },
    {
     "data": {
      "text/html": [
       "<table class=\"simpletable\">\n",
       "<tr>\n",
       "       <td></td>          <th>coef</th>     <th>std err</th>      <th>t</th>      <th>P>|t|</th>  <th>[0.025</th>    <th>0.975]</th>  \n",
       "</tr>\n",
       "<tr>\n",
       "  <th>Intercept</th>   <td>   -3.2121</td> <td>    0.540</td> <td>   -5.949</td> <td> 0.000</td> <td>   -4.270</td> <td>   -2.154</td>\n",
       "</tr>\n",
       "<tr>\n",
       "  <th>Italy</th>       <td>    0.0664</td> <td>    0.006</td> <td>   10.479</td> <td> 0.000</td> <td>    0.054</td> <td>    0.079</td>\n",
       "</tr>\n",
       "<tr>\n",
       "  <th>Switzerland</th> <td>    0.0372</td> <td>    0.005</td> <td>    7.508</td> <td> 0.000</td> <td>    0.028</td> <td>    0.047</td>\n",
       "</tr>\n",
       "<tr>\n",
       "  <th>Germany</th>     <td>    0.0660</td> <td>    0.007</td> <td>    9.332</td> <td> 0.000</td> <td>    0.052</td> <td>    0.080</td>\n",
       "</tr>\n",
       "<tr>\n",
       "  <th>Netherlands</th> <td>   -0.0017</td> <td>    0.022</td> <td>   -0.077</td> <td> 0.939</td> <td>   -0.044</td> <td>    0.041</td>\n",
       "</tr>\n",
       "</table>"
      ],
      "text/plain": [
       "<class 'statsmodels.iolib.table.SimpleTable'>"
      ]
     },
     "execution_count": 23,
     "metadata": {},
     "output_type": "execute_result"
    }
   ],
   "source": [
    "print('Weekdays Only')\n",
    "reg = smf.ols(\" traffic ~ Italy + Switzerland + Germany + Netherlands\", ds.xs(0,level=1)).fit()\n",
    "print(\"R-squared: {0:1.2f}%, N: {1:1,.0f}\".format(reg.rsquared*100, reg.nobs))\n",
    "reg.summary().tables[1]"
   ]
  },
  {
   "cell_type": "code",
   "execution_count": 29,
   "metadata": {
    "ExecuteTime": {
     "end_time": "2019-11-16T22:17:04.841278Z",
     "start_time": "2019-11-16T22:17:04.651111Z"
    }
   },
   "outputs": [
    {
     "name": "stdout",
     "output_type": "stream",
     "text": [
      "Weekdays Only\n",
      "R-squared: 0.33%, N: 176,971\n"
     ]
    },
    {
     "data": {
      "text/html": [
       "<table class=\"simpletable\">\n",
       "<tr>\n",
       "        <td></td>           <th>coef</th>     <th>std err</th>      <th>t</th>      <th>P>|t|</th>  <th>[0.025</th>    <th>0.975]</th>  \n",
       "</tr>\n",
       "<tr>\n",
       "  <th>Intercept</th>     <td>    0.3764</td> <td>    0.014</td> <td>   26.416</td> <td> 0.000</td> <td>    0.349</td> <td>    0.404</td>\n",
       "</tr>\n",
       "<tr>\n",
       "  <th>Italy</th>         <td>    0.0185</td> <td>    0.001</td> <td>   13.538</td> <td> 0.000</td> <td>    0.016</td> <td>    0.021</td>\n",
       "</tr>\n",
       "<tr>\n",
       "  <th>weekend</th>       <td>    0.4277</td> <td>    0.024</td> <td>   17.681</td> <td> 0.000</td> <td>    0.380</td> <td>    0.475</td>\n",
       "</tr>\n",
       "<tr>\n",
       "  <th>Italy:weekend</th> <td>   -0.0544</td> <td>    0.003</td> <td>  -19.597</td> <td> 0.000</td> <td>   -0.060</td> <td>   -0.049</td>\n",
       "</tr>\n",
       "</table>"
      ],
      "text/plain": [
       "<class 'statsmodels.iolib.table.SimpleTable'>"
      ]
     },
     "execution_count": 29,
     "metadata": {},
     "output_type": "execute_result"
    }
   ],
   "source": [
    "print('Weekdays Only')\n",
    "reg = smf.ols(\" traffic ~ Italy*weekend\", ds.reset_index()).fit()\n",
    "print(\"R-squared: {0:1.2f}%, N: {1:1,.0f}\".format(reg.rsquared*100, reg.nobs))\n",
    "reg.summary().tables[1]"
   ]
  },
  {
   "cell_type": "code",
   "execution_count": null,
   "metadata": {},
   "outputs": [],
   "source": []
  },
  {
   "cell_type": "markdown",
   "metadata": {},
   "source": [
    "## Weather and Air Pollution"
   ]
  },
  {
   "cell_type": "code",
   "execution_count": 30,
   "metadata": {
    "ExecuteTime": {
     "end_time": "2019-11-16T22:19:15.178370Z",
     "start_time": "2019-11-16T22:19:15.142439Z"
    }
   },
   "outputs": [
    {
     "data": {
      "text/html": [
       "<div>\n",
       "<style scoped>\n",
       "    .dataframe tbody tr th:only-of-type {\n",
       "        vertical-align: middle;\n",
       "    }\n",
       "\n",
       "    .dataframe tbody tr th {\n",
       "        vertical-align: top;\n",
       "    }\n",
       "\n",
       "    .dataframe thead th {\n",
       "        text-align: right;\n",
       "    }\n",
       "</style>\n",
       "<table border=\"1\" class=\"dataframe\">\n",
       "  <thead>\n",
       "    <tr style=\"text-align: right;\">\n",
       "      <th></th>\n",
       "      <th></th>\n",
       "      <th></th>\n",
       "      <th></th>\n",
       "      <th>dur</th>\n",
       "      <th>dur_p</th>\n",
       "      <th>benchmark</th>\n",
       "      <th>benchmark_p</th>\n",
       "      <th>traffic</th>\n",
       "      <th>traffic_p</th>\n",
       "      <th>sensi</th>\n",
       "      <th>high</th>\n",
       "    </tr>\n",
       "    <tr>\n",
       "      <th>fermata</th>\n",
       "      <th>weekend</th>\n",
       "      <th>date</th>\n",
       "      <th>hour</th>\n",
       "      <th></th>\n",
       "      <th></th>\n",
       "      <th></th>\n",
       "      <th></th>\n",
       "      <th></th>\n",
       "      <th></th>\n",
       "      <th></th>\n",
       "      <th></th>\n",
       "    </tr>\n",
       "  </thead>\n",
       "  <tbody>\n",
       "    <tr>\n",
       "      <th rowspan=\"5\" valign=\"top\">Cassarate- Lanchetta- Mast 2</th>\n",
       "      <th rowspan=\"5\" valign=\"top\">0</th>\n",
       "      <th rowspan=\"5\" valign=\"top\">2018-01-11</th>\n",
       "      <th>06</th>\n",
       "      <td>1.011111</td>\n",
       "      <td>1.833333</td>\n",
       "      <td>1.020833</td>\n",
       "      <td>1.5</td>\n",
       "      <td>0.000000</td>\n",
       "      <td>0.222222</td>\n",
       "      <td>1.525777</td>\n",
       "      <td>0</td>\n",
       "    </tr>\n",
       "    <tr>\n",
       "      <th>07</th>\n",
       "      <td>1.355556</td>\n",
       "      <td>1.666667</td>\n",
       "      <td>1.020833</td>\n",
       "      <td>1.5</td>\n",
       "      <td>0.327891</td>\n",
       "      <td>0.111111</td>\n",
       "      <td>1.525777</td>\n",
       "      <td>0</td>\n",
       "    </tr>\n",
       "    <tr>\n",
       "      <th>08</th>\n",
       "      <td>1.116667</td>\n",
       "      <td>1.666667</td>\n",
       "      <td>1.020833</td>\n",
       "      <td>1.5</td>\n",
       "      <td>0.093878</td>\n",
       "      <td>0.111111</td>\n",
       "      <td>1.525777</td>\n",
       "      <td>0</td>\n",
       "    </tr>\n",
       "    <tr>\n",
       "      <th>09</th>\n",
       "      <td>1.350000</td>\n",
       "      <td>1.666667</td>\n",
       "      <td>1.020833</td>\n",
       "      <td>1.5</td>\n",
       "      <td>0.322449</td>\n",
       "      <td>0.111111</td>\n",
       "      <td>1.525777</td>\n",
       "      <td>0</td>\n",
       "    </tr>\n",
       "    <tr>\n",
       "      <th>10</th>\n",
       "      <td>1.272222</td>\n",
       "      <td>1.666667</td>\n",
       "      <td>1.020833</td>\n",
       "      <td>1.5</td>\n",
       "      <td>0.246259</td>\n",
       "      <td>0.111111</td>\n",
       "      <td>1.525777</td>\n",
       "      <td>0</td>\n",
       "    </tr>\n",
       "  </tbody>\n",
       "</table>\n",
       "</div>"
      ],
      "text/plain": [
       "                                                           dur     dur_p  \\\n",
       "fermata                      weekend date       hour                       \n",
       "Cassarate- Lanchetta- Mast 2 0       2018-01-11 06    1.011111  1.833333   \n",
       "                                                07    1.355556  1.666667   \n",
       "                                                08    1.116667  1.666667   \n",
       "                                                09    1.350000  1.666667   \n",
       "                                                10    1.272222  1.666667   \n",
       "\n",
       "                                                      benchmark  benchmark_p  \\\n",
       "fermata                      weekend date       hour                           \n",
       "Cassarate- Lanchetta- Mast 2 0       2018-01-11 06     1.020833          1.5   \n",
       "                                                07     1.020833          1.5   \n",
       "                                                08     1.020833          1.5   \n",
       "                                                09     1.020833          1.5   \n",
       "                                                10     1.020833          1.5   \n",
       "\n",
       "                                                       traffic  traffic_p  \\\n",
       "fermata                      weekend date       hour                        \n",
       "Cassarate- Lanchetta- Mast 2 0       2018-01-11 06    0.000000   0.222222   \n",
       "                                                07    0.327891   0.111111   \n",
       "                                                08    0.093878   0.111111   \n",
       "                                                09    0.322449   0.111111   \n",
       "                                                10    0.246259   0.111111   \n",
       "\n",
       "                                                         sensi  high  \n",
       "fermata                      weekend date       hour                  \n",
       "Cassarate- Lanchetta- Mast 2 0       2018-01-11 06    1.525777     0  \n",
       "                                                07    1.525777     0  \n",
       "                                                08    1.525777     0  \n",
       "                                                09    1.525777     0  \n",
       "                                                10    1.525777     0  "
      ]
     },
     "execution_count": 30,
     "metadata": {},
     "output_type": "execute_result"
    }
   ],
   "source": [
    "res.head()"
   ]
  },
  {
   "cell_type": "code",
   "execution_count": null,
   "metadata": {},
   "outputs": [],
   "source": []
  }
 ],
 "metadata": {
  "kernelspec": {
   "display_name": "Python 3",
   "language": "python",
   "name": "python3"
  },
  "language_info": {
   "codemirror_mode": {
    "name": "ipython",
    "version": 3
   },
   "file_extension": ".py",
   "mimetype": "text/x-python",
   "name": "python",
   "nbconvert_exporter": "python",
   "pygments_lexer": "ipython3",
   "version": "3.6.7"
  },
  "toc": {
   "colors": {
    "hover_highlight": "#DAA520",
    "navigate_num": "#000000",
    "navigate_text": "#333333",
    "running_highlight": "#FF0000",
    "selected_highlight": "#FFD700",
    "sidebar_border": "#EEEEEE",
    "wrapper_background": "#FFFFFF"
   },
   "moveMenuLeft": true,
   "nav_menu": {
    "height": "48.3523px",
    "width": "251.989px"
   },
   "navigate_menu": true,
   "number_sections": true,
   "sideBar": true,
   "threshold": 4,
   "toc_cell": false,
   "toc_section_display": "block",
   "toc_window_display": false,
   "widenNotebook": false
  }
 },
 "nbformat": 4,
 "nbformat_minor": 2
}
